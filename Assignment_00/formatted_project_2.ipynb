{
 "cells": [
  {
   "cell_type": "markdown",
   "metadata": {
    "id": "qIVBVK-_rOYR"
   },
   "source": [
    "# GED PRE and POST ANALYSIS"
   ]
  },
  {
   "cell_type": "code",
   "execution_count": 1,
   "metadata": {
    "id": "8LFew8QLZBf4"
   },
   "outputs": [],
   "source": [
    "import numpy as np\n",
    "import pandas as pd\n",
    "import matplotlib.pyplot as plt\n",
    "import seaborn as sns\n",
    "\n",
    "\n",
    "# Set display options to avoid line breaks\n",
    "pd.set_option('display.max_columns', None)  # Display all columns\n",
    "pd.set_option('display.width', 1000)        # Set a large display width\n",
    "pd.set_option('display.colheader_justify', 'center')  # Center headers\n",
    "pd.set_option('display.max_colwidth', None) # No limit on column width\n",
    "# Adjust display options\n",
    "pd.set_option('display.max_colwidth', None)  # Set max column width to None\n",
    "pd.set_option('display.width', None)          # Use the full width of the output area\n",
    "pd.set_option('display.expand_frame_repr', False)  # Prevent DataFrame from being split across lines\n"
   ]
  },
  {
   "cell_type": "markdown",
   "metadata": {},
   "source": [
    "# Write necessary functions "
   ]
  },
  {
   "cell_type": "code",
   "execution_count": 2,
   "metadata": {
    "id": "8rxJOAF1ZH6i"
   },
   "outputs": [],
   "source": [
    "# read files and convert it to dataframes\n",
    "# loop over the file list and save the dataframes into dataframes dictionary for easily access\n",
    "def convert_to_df(file_info_paths):\n",
    "    dataframes = {}\n",
    "    # Loop through the file information\n",
    "    for file_path, encoding, df_name in file_info_paths:\n",
    "        try:\n",
    "            df = pd.read_csv(file_path, encoding=encoding)  # Read the CSV with the specified encoding\n",
    "            dataframes[df_name] = df             # Store the DataFrame with the specified name\n",
    "        except Exception as e:\n",
    "            print(f\"Error reading {file_path}: {e}\")  # Handle any exceptions\n",
    "    return dataframes"
   ]
  },
  {
   "cell_type": "code",
   "execution_count": 3,
   "metadata": {},
   "outputs": [],
   "source": [
    "#different subjects has different max score, in order to do fair comparison, we normalize to 10-point scale\n",
    "def normalize_to_10(score, max_score):\n",
    "    # Normalize the score to a 10-point scale.\n",
    "    return (score / max_score) * 10"
   ]
  },
  {
   "cell_type": "code",
   "execution_count": 4,
   "metadata": {},
   "outputs": [],
   "source": [
    "def normalize_scores(df):\n",
    "    # Iterate through DataFrame columns\n",
    "    for col in df.columns:\n",
    "        #use pd.api.types.is_numeric_dtype to check numeric data type like int ,float\n",
    "        if not col.startswith('Grade/10.00') and pd.api.types.is_numeric_dtype(df[col]) and 'Grade' in col:  # Normalize scores for columns that is not 10-point scale\n",
    "            # Determine the max_score and subject name based on column name\n",
    "            sub_name = col.split('_')[1]\n",
    "            if '50.00' in col:\n",
    "                max_score = 50\n",
    "            elif '100.00' in col:\n",
    "                max_score = 100\n",
    "            elif '200.00' in col:\n",
    "                max_score = 200\n",
    "            else:\n",
    "                continue  # Skip if max_score is not defined\n",
    "            \n",
    "            # Normalize and create new column name\n",
    "            df[f'n_{sub_name}_{col.split(\"_\")[-1]}'] = df[col].apply(lambda x: normalize_to_10(x, max_score))\n",
    "            \n",
    "#             # Selecting columns that start with 'Grade' to calcluate mean score\n",
    "#             grade_columns = [col for col in merged_scores.columns if 'test' in col:]\n",
    "#             df[f'avg_{sub_name}'] = df[grade_columns]\n",
    "#             merged_scores[f'avg_{subject_name}'] = merged_scores[grade_columns].mean(axis=1)\n",
    "\n",
    "    return df\n"
   ]
  },
  {
   "cell_type": "code",
   "execution_count": 5,
   "metadata": {
    "colab": {
     "base_uri": "https://localhost:8080/"
    },
    "executionInfo": {
     "elapsed": 11468,
     "status": "ok",
     "timestamp": 1729792077265,
     "user": {
      "displayName": "Nu Wai Thet",
      "userId": "06382744727100212464"
     },
     "user_tz": -390
    },
    "id": "dPWwwl4fek6y",
    "outputId": "e9d1d8de-eb9e-495b-fe23-7751189f9ca7"
   },
   "outputs": [],
   "source": [
    "#functions to read subject exam scores from google sheeets\n",
    "def read_and_merge_scores(score_info,keep_columns, merge_suffixes=None, grade_column_mapping=None):\n",
    "    \"\"\"\n",
    "    Reads data from Google Sheets and merges DataFrames based on email address.\n",
    "\n",
    "    Parameters:\n",
    "        score_info (list): List of tuples containing (URL, encoding, name).\n",
    "        merge_suffixes (list): List of suffixes for merging.\n",
    "        grade_column_mapping (dict): Mapping for renaming grade columns.\n",
    "\n",
    "    Returns:\n",
    "        DataFrame: Merged DataFrame of scores.\n",
    "    \"\"\"\n",
    "    dataframes = convert_to_df(file_info_paths=score_info)\n",
    "\n",
    "    # Extract DataFrames from the dictionary\n",
    "    # will get the list of the dataframes\n",
    "    tests = [dataframes[name] for _, _, name in score_info]\n",
    "\n",
    "    # Merge DataFrames\n",
    "    merged_scores = tests[0]  # grab the first dataframe to be merged on\n",
    "\n",
    "    # Iterate over the test DataFrames starting from the second one (index 1)\n",
    "    for i, test in enumerate(tests[1:], start=1):\n",
    "        suffix = merge_suffixes[i]  # Get the corresponding suffix for the current test\n",
    "        merged_scores = merged_scores.merge(test, on='Email address', how='outer', suffixes=('', f'_{suffix}'))\n",
    "\n",
    "    merged_scores = merged_scores[keep_columns].drop_duplicates()\n",
    "\n",
    "    # duplicated_scores = merged_scores[merged_scores['Email address'].duplicated(keep=False)]\n",
    "    # print(f\"Duplicated scores:\\n{duplicated_scores.head()}\")\n",
    "\n",
    "    # Select relevant columns and drop duplicates\n",
    "    if grade_column_mapping:\n",
    "        merged_scores = merged_scores.rename(columns=grade_column_mapping)\n",
    "\n",
    "    # Take max score for each duplicated entry\n",
    "    merged_scores = merged_scores.groupby('Email address', as_index=False).max()\n",
    "    \n",
    "    # merge data to get student ID column for each subject\n",
    "    df = convert_to_df([('https://docs.google.com/spreadsheets/d/1tXg8YSSB2ASpmvWmuEv77yn1_EaxpLtR/gviz/tq?tqx=out:csv','utf-8','id_df')])\n",
    "    id_df = df['id_df']\n",
    "    merged_scores = merged_scores.merge(id_df, on = 'Email address', how='left') \n",
    "    \n",
    "    #add batch column\n",
    "    merged_scores['Batch'] = 2\n",
    "#     # Selecting columns that start with 'Grade' to calcluate mean score\n",
    "#     grade_columns = [col for col in merged_scores.columns if col.startswith('Grade')]\n",
    "#     # Calculating average score and assigning to a new column 'avg_math'\n",
    "#     subject_name = score_info[0][2].split('_')[0] #Extract subject name from score info\n",
    "\n",
    "#     merged_scores[f'avg_{subject_name}'] = merged_scores[grade_columns].mean(axis=1)\n",
    "    \n",
    "    \n",
    "    return merged_scores"
   ]
  },
  {
   "cell_type": "markdown",
   "metadata": {},
   "source": [
    "# Start reading all the necessary files from different sources"
   ]
  },
  {
   "cell_type": "code",
   "execution_count": 6,
   "metadata": {},
   "outputs": [
    {
     "name": "stdout",
     "output_type": "stream",
     "text": [
      "         Email address         Grade/10.00_rla_test1  Grade/10.00_rla_test2 Grade/10.00_rla_test3   Student ID    Batch\n",
      "0        chaintmyat@gmail.com          6.11                    NaN                         NaN     GED202402_104    2  \n",
      "1     eaintchittcho@gmail.com          4.44                    NaN                         NaN      GED202402_94    2  \n",
      "2     ehtharshee710@gmail.com          8.33                   6.21              Not yet graded      GED202402_67    2  \n",
      "3           ei49137@gmail.com          8.33                   9.31              Not yet graded      GED202402_09    2  \n",
      "4  eithandarkyaw611@gmail.com           NaN                   7.59                         NaN      GED202402_92    2  \n"
     ]
    }
   ],
   "source": [
    "# Define score info for each subject\n",
    "sci_score_info = [\n",
    "    ('https://docs.google.com/spreadsheets/d/1cOa5iDXSkWRgaKw6O-SdPw9MmrcbyS-UkojhRMlEglc/gviz/tq?tqx=out:csv', 'utf-8', 'sci_test1'),\n",
    "    ('https://docs.google.com/spreadsheets/d/1jffdahQgJZ1DV3qCZVIkOox0D6yRKPNszX43348gRPk/gviz/tq?tqx=out:csv', 'utf-8', 'sci_test2'),\n",
    "    ('https://docs.google.com/spreadsheets/d/1PZ0a-s0Bmq6aOEAixiSmLRXwcXj389Z1SFwi7k2Ev4s/gviz/tq?tqx=out:csv', 'utf-8', 'sci_test3'),\n",
    "    ('https://docs.google.com/spreadsheets/d/1J7FKxCIaFkDKR9dLdJFHQIcdtJO_aL5JCvlA4I9B8TE/gviz/tq?tqx=out:csv', 'utf-8', 'sci_test4')\n",
    "]\n",
    "\n",
    "math_score_info = [\n",
    "    ('https://docs.google.com/spreadsheets/d/1RE6CnF-EwP-F3xpoyPpOEVXMLIa4HiCQE515HMXG_8s/gviz/tq?tqx=out:csv', 'utf-8', 'math_test1'),\n",
    "    ('https://docs.google.com/spreadsheets/d/1yQuhwCGD5zMESM6L2SWmjcZ_w48T7ttsKncUxFpAgf0/gviz/tq?tqx=out:csv', 'utf-8', 'math_test2'),\n",
    "    ('https://docs.google.com/spreadsheets/d/1NH0PNH0x576UYubhqWeDC9OPT4RbgRDwV1iSQL9i2P8/gviz/tq?tqx=out:csv', 'utf-8', 'math_test3'),\n",
    "    ('https://docs.google.com/spreadsheets/d/1YH0PnqC8UK5Ebwczi0J7k8LU8HmE_o3MV7LNXJHdVp8/gviz/tq?tqx=out:csv', 'utf-8', 'math_test6')\n",
    "]\n",
    "\n",
    "ss_score_info = [\n",
    "    ('https://docs.google.com/spreadsheets/d/1J862tfmyLEdwUM3Tj6E4C_Fz6k-TGuyuChhCvLg4pHE/gviz/tq?tqx=out:csv', 'utf-8', 'ss_test1'),\n",
    "    ('https://docs.google.com/spreadsheets/d/1ywFsO8QhuQ3WXZY_VupVzWVfvaF9MOvMn3Y1vzRTtD4/gviz/tq?tqx=out:csv', 'utf-8', 'ss_test2'),\n",
    "    ('https://docs.google.com/spreadsheets/d/1x3vXQLBclk4ledzng_YI9277YTaDdlhV3ROZM91d8SI/gviz/tq?tqx=out:csv', 'utf-8', 'ss_test3'),\n",
    "]\n",
    "\n",
    "rla_score_info = [\n",
    "    ('https://docs.google.com/spreadsheets/d/1NsosKJex878HwPu4-WWwGIE29RLaVF7tLkTUCs6xS-4/gviz/tq?tqx=out:csv', 'utf-8', 'rla_test1'),\n",
    "    ('https://docs.google.com/spreadsheets/d/1VCp415quLaT9AW1U1U6uzWDhvpULVihl-vkxwnWjvm0/gviz/tq?tqx=out:csv', 'utf-8', 'rla_test2'),\n",
    "    ('https://docs.google.com/spreadsheets/d/1GwAoN3k_A9e0OdXTU_L3OvUOikGNONAtmWR2q8ApZAA/gviz/tq?tqx=out:csv', 'utf-8', 'rla_test3'),\n",
    "]\n",
    "\n",
    "\n",
    "# Define the merge suffixes for each subject\n",
    "sci_merge_suffixes = ['', 'sci_test2', 'sci_test3', 'sci_test4']\n",
    "math_merge_suffixes = ['', '', 'math_test3', 'math_test6']\n",
    "ss_merge_suffixes = ['', 'ss_test2', '']\n",
    "rla_merge_suffixes = ['', 'rla_test2', 'rla_test3']\n",
    "\n",
    "# only major columns will be kept, to subset the dataframes from multiple columns\n",
    "sci_columns = ['Email address', 'Grade/10.00', 'Grade/10.00_sci_test2', 'Grade/10.00_sci_test3', 'Grade/10.00_sci_test4']\n",
    "math_columns = ['Email address', 'Grade/50.00', 'Grade/10.00', 'Grade/10.00_math_test3', 'Grade/10.00_math_test6']\n",
    "ss_columns = ['Email address', 'Grade/100.00', 'Grade/100.00_ss_test2', 'Grade/200.00']\n",
    "rla_columns = ['Email address', 'Grade/10.00', 'Grade/10.00_rla_test2', 'Grade/10.00_rla_test3']\n",
    "\n",
    "\n",
    "# Define the grade column mappings for each subject\n",
    "sci_grade_mapping = {\n",
    "    'Grade/10.00': 'Grade/10.00_sci_test1',\n",
    "    'Grade/10.00_sci_test2': 'Grade/10.00_sci_test2',\n",
    "    'Grade/10.00_sci_test3': 'Grade/10.00_sci_test3',\n",
    "    'Grade/10.00_sci_test4': 'Grade/10.00_sci_test4'\n",
    "}\n",
    "\n",
    "math_grade_mapping = {\n",
    "    'Grade/50.00': 'Grade/50.00_math_test1',\n",
    "    'Grade/10.00': 'Grade/10.00_math_test2',\n",
    "    'Grade/10.00_math_test3': 'Grade/10.00_math_test3',\n",
    "    'Grade/10.00_math_test6': 'Grade/10.00_math_test6'\n",
    "}\n",
    "\n",
    "ss_grade_mapping = {\n",
    "    'Grade/100.00': 'Grade/100.00_ss_test1',\n",
    "    'Grade/100.00_ss_test2': 'Grade/100.00_ss_test2',\n",
    "    'Grade/200.00': 'Grade/200.00_ss_test3'\n",
    "}\n",
    "\n",
    "rla_grade_mapping = {\n",
    "    'Grade/10.00': 'Grade/10.00_rla_test1',\n",
    "    'Grade/10.00_rla_test2': 'Grade/10.00_rla_test2',\n",
    "    #'Grade/10.00_rla_test3': 'Grade/10.00_rla_test3'\n",
    "}\n",
    "\n",
    "# Read and process scores for each subject\n",
    "sci_scores = read_and_merge_scores(sci_score_info,keep_columns=sci_columns, merge_suffixes=sci_merge_suffixes, grade_column_mapping=sci_grade_mapping)\n",
    "math_scores = read_and_merge_scores(math_score_info,keep_columns=math_columns, merge_suffixes=math_merge_suffixes, grade_column_mapping=math_grade_mapping)\n",
    "ss_scores = read_and_merge_scores(ss_score_info,keep_columns=ss_columns, merge_suffixes=ss_merge_suffixes, grade_column_mapping=ss_grade_mapping)\n",
    "rla_scores = read_and_merge_scores(rla_score_info,keep_columns=rla_columns, merge_suffixes=rla_merge_suffixes, grade_column_mapping=rla_grade_mapping)\n",
    "#rla_scores = rla_scores.drop(columns='Grade/10.00_rla_test3') # drop it since all values \n",
    "# Display the results\n",
    "#print(sci_scores.head())\n",
    "# print(math_scores.head())\n",
    "# print(ss_scores.head())\n",
    "print(rla_scores.head())"
   ]
  },
  {
   "cell_type": "code",
   "execution_count": 7,
   "metadata": {},
   "outputs": [
    {
     "name": "stdout",
     "output_type": "stream",
     "text": [
      "Index(['Email address', 'Grade/10.00_math_test2', 'Grade/10.00_math_test3',\n",
      "       'Grade/10.00_math_test6', 'Student ID', 'Batch', 'n_math_test1',\n",
      "       'avg_math'],\n",
      "      dtype='object')\n",
      "Index(['Email address', 'Student ID', 'Batch', 'n_ss_test1', 'n_ss_test2',\n",
      "       'n_ss_test3', 'avg_ss'],\n",
      "      dtype='object')\n"
     ]
    }
   ],
   "source": [
    "# normalize to 10-point scale \n",
    "math_scores = normalize_scores(math_scores)\n",
    "sci_scores = normalize_scores(sci_scores)\n",
    "ss_scores = normalize_scores(ss_scores)\n",
    "rla_scores = normalize_scores(rla_scores)\n",
    "\n",
    "\n",
    "# create average score column for each subject, axis=1 row by row\n",
    "math_scores['avg_math'] = math_scores[['n_math_test1','Grade/10.00_math_test2','Grade/10.00_math_test3','Grade/10.00_math_test6']].mean(axis=1)\n",
    "sci_scores['avg_sci'] = sci_scores[['Grade/10.00_sci_test1','Grade/10.00_sci_test2','Grade/10.00_sci_test3','Grade/10.00_sci_test4']].mean(axis=1)\n",
    "#rla_scores['avg_rla'] =rla_scores[['Grade/10.00_rla_test1','Grade/10.00_rla_test2','Grade/10.00_rla_test3']].mean(axis=1)\n",
    "rla_scores['avg_rla'] =rla_scores[['Grade/10.00_rla_test1','Grade/10.00_rla_test2','Grade/10.00_rla_test3']].apply(pd.to_numeric, errors='coerce').mean(axis=1) #There is an error \n",
    "ss_scores['avg_ss'] =ss_scores[['n_ss_test1','n_ss_test2','n_ss_test3']].mean(axis=1)\n",
    "\n",
    "#drop non normalized extra columns for each subject\n",
    "math_scores.drop(columns=['Grade/50.00_math_test1'],inplace=True)\n",
    "ss_scores.drop(columns=['Grade/100.00_ss_test1','Grade/100.00_ss_test2','Grade/200.00_ss_test3'],inplace=True)\n",
    "\n",
    "print(math_scores.columns)\n",
    "print(ss_scores.columns)"
   ]
  },
  {
   "cell_type": "code",
   "execution_count": 8,
   "metadata": {
    "colab": {
     "base_uri": "https://localhost:8080/"
    },
    "executionInfo": {
     "elapsed": 1410,
     "status": "ok",
     "timestamp": 1729792196424,
     "user": {
      "displayName": "Nu Wai Thet",
      "userId": "06382744727100212464"
     },
     "user_tz": -390
    },
    "id": "n03NEVUipc8i",
    "outputId": "9541ad8f-8a1d-4efa-9e6a-a570b2632d44"
   },
   "outputs": [
    {
     "name": "stdout",
     "output_type": "stream",
     "text": [
      "            Email address            Student ID  Batch  sci_test1  sci_test2  sci_test3  sci_test4  sci_test5  sci_test6  sci_test7  sci_test8\n",
      "0            cottonphyo01@gmail.com  GED2024003    1      8.85         7        9.22       8.25       9.33       9.47       8.15       8.97   \n",
      "1         khattgarpun1997@gmail.com  GED2024017    1      7.95         7        7.64       7.89       8.67       8.95       8.33       8.10   \n",
      "2  ayemonyadanar.aung2006@gmail.com  GED2024007    1      8.33         8        7.95       7.37       8.22       8.42       8.65       7.93   \n"
     ]
    }
   ],
   "source": [
    "# get batch 1 score info for 3 students, we only able to extract 3 students for now due to some LMS issue \n",
    "b1_scores_info = [\n",
    "    ('https://docs.google.com/spreadsheets/d/1LUKLmvO7MRJ53ez53l332WeYQN0U-uUNQPRl08UUXyU/gviz/tq?tqx=out:csv','utf-8','b1_scores')\n",
    "]\n",
    "dataframes = convert_to_df(file_info_paths=b1_scores_info)\n",
    "b1_scores = dataframes['b1_scores']\n",
    "\n",
    "# filter only necessary columns for each subjects\n",
    "b1_sci_scores = b1_scores[['Email address',\t'Student ID',\t'Batch',\t'sci_test1',\t'sci_test2',\t'sci_test3',\t'sci_test4',\t'sci_test5',\t'sci_test6',\t'sci_test7',\t'sci_test8']]\n",
    "b1_rla_scores = b1_scores[['Email address',\t'Student ID',\t'Batch','rla_test1','rla_test2','rla_test3','rla_test4']]\n",
    "b1_math_scores = b1_scores[['Email address','Student ID',\t'Batch','math_test1','math_test2','math_test3','math_test4','math_test5']]\n",
    "b1_ss_scores=b1_scores[['Email address',\t'Student ID',\t'Batch','ss_final']]\n",
    "print(b1_sci_scores.head())"
   ]
  },
  {
   "cell_type": "code",
   "execution_count": 9,
   "metadata": {
    "colab": {
     "base_uri": "https://localhost:8080/"
    },
    "executionInfo": {
     "elapsed": 611,
     "status": "ok",
     "timestamp": 1729792400098,
     "user": {
      "displayName": "Nu Wai Thet",
      "userId": "06382744727100212464"
     },
     "user_tz": -390
    },
    "id": "vhtjyUMBpzKk",
    "outputId": "f7d4b220-6e81-40c6-dcf5-4fd3a5061d41"
   },
   "outputs": [],
   "source": [
    "# reading class participation survery from teachers and save it to student_ptc_info\n",
    "student_ptc_info=[\n",
    "    ('https://docs.google.com/spreadsheets/d/1EpHVOPgLW3x9hgHCoZ9qOP3fR8BHM1Nny1I9SowixUQ/gviz/tq?tqx=out:csv','utf-8','studen_ptc_info')\n",
    "]\n",
    "dataframes = convert_to_df(file_info_paths=student_ptc_info)\n",
    "studen_ptc_info=dataframes['studen_ptc_info']\n",
    "#print(studen_ptc_info.head())\n",
    "#check type of the result\n",
    "#print(type(student_ptc_info))\n",
    "\n",
    "#change to dataframe\n",
    "student_ptc_info_df = pd.DataFrame(studen_ptc_info)\n",
    "#print(type(student_ptc_info_df))\n",
    "\n",
    "#remove unnessary columns since it contains a lot of Empty Unnamed columns\n",
    "student_ptc_info_df = student_ptc_info_df.loc[:,~student_ptc_info_df.columns.str.contains('^Unnamed')]\n",
    "#print(student_ptc_info_df.head())"
   ]
  },
  {
   "cell_type": "code",
   "execution_count": 10,
   "metadata": {
    "colab": {
     "base_uri": "https://localhost:8080/"
    },
    "executionInfo": {
     "elapsed": 1231,
     "status": "ok",
     "timestamp": 1729792562843,
     "user": {
      "displayName": "Nu Wai Thet",
      "userId": "06382744727100212464"
     },
     "user_tz": -390
    },
    "id": "Kfp01ZahqhkY",
    "outputId": "3d5292e4-0759-4847-e7ba-2c0015f58da6"
   },
   "outputs": [],
   "source": [
    "# read survery data from students and save to pj2_survey_df\n",
    "survey_response_path =[\n",
    "    ('https://docs.google.com/spreadsheets/d/1jXqz4q4_QZBxvS_A3N_HFwySnDrLiLOxdlbvzd-ERsc/gviz/tq?tqx=out:csv','utf-8','survery_df')\n",
    "]\n",
    "dataframes = convert_to_df(file_info_paths=survey_response_path)\n",
    "survey_df = dataframes['survery_df']\n",
    "pj2_col_start = 'On a scale of 1-5, how would you rate your confidence in the following subjects before joining the GED program? ( 1 means no confidence and 5 means very confident )  [Math]'\n",
    "pj2_col_end = 'Which aspects of the GED program do you believe contributed the most to your improvement? (Select up to 3 options)'\n",
    "pj2_survey_df = survey_df.loc[:, pj2_col_start:pj2_col_end]\n",
    "pj2_survey_df['Student ID'] = survey_df['GED ID Number']\n",
    "# convert batch number from text to string and make new columns\n",
    "pj2_survey_df['Batch'] = survey_df['Batch'].apply(lambda x:1 if x == 'GED First Batch' else 2)\n",
    "#pj2_survey_df.columns"
   ]
  },
  {
   "cell_type": "code",
   "execution_count": 11,
   "metadata": {
    "colab": {
     "base_uri": "https://localhost:8080/"
    },
    "executionInfo": {
     "elapsed": 431,
     "status": "ok",
     "timestamp": 1729792567060,
     "user": {
      "displayName": "Nu Wai Thet",
      "userId": "06382744727100212464"
     },
     "user_tz": -390
    },
    "id": "roUsv2Sbqk6w",
    "outputId": "a011671a-c8a3-4fc6-8574-1fe03a45e262"
   },
   "outputs": [],
   "source": [
    "# rename suvery columns to make it more readable and convert to long format for data analysis\n",
    "pj2_survey_df.rename(columns={\n",
    "   'On a scale of 1-5, how would you rate your confidence in the following subjects before joining the GED program? ( 1 means no confidence and 5 means very confident )  [Math]':'confidence_bef_math',\n",
    "    'On a scale of 1-5, how would you rate your confidence in the following subjects before joining the GED program? ( 1 means no confidence and 5 means very confident )  [RLA]':'confidence_bef_rla',\n",
    "    'On a scale of 1-5, how would you rate your confidence in the following subjects before joining the GED program? ( 1 means no confidence and 5 means very confident )  [Science]':'confidence_bef_sci',\n",
    "    'On a scale of 1-5, how would you rate your confidence in the following subjects before joining the GED program? ( 1 means no confidence and 5 means very confident )  [Social Studies]':'confidence_bef_ss',\n",
    "    'On a scale of 1-5, how would you rate your confidence in the following subjects after joining the GED program? (1 means no improvement and 5 means significant improvement)  [Math]':'confidence_aft_math',\n",
    "    'On a scale of 1-5, how would you rate your confidence in the following subjects after joining the GED program? (1 means no improvement and 5 means significant improvement)  [RLA]':'confidence_aft_rla',\n",
    "    'On a scale of 1-5, how would you rate your confidence in the following subjects after joining the GED program? (1 means no improvement and 5 means significant improvement)  [Science]':'confidence_aft_sci',\n",
    "    'On a scale of 1-5, how would you rate your confidence in the following subjects after joining the GED program? (1 means no improvement and 5 means significant improvement)  [Social Studies]':'confidence_aft_ss',\n",
    "    'How well did the program meet your expectations compared to what you anticipated before starting the GED course?':'Expectations_Met',\n",
    "    'Mathematics: The GED program has significantly improved my ability to solve complex mathematical problems, such as algebra and geometry.(1 = Strongly Disagree, 5 = Strongly Agree)':'math_improvement',\n",
    "    'Science: The GED program has greatly improved my understanding of scientific concepts and experiments.(1 = Strongly Disagree, 5 = Strongly Agree)\\n':'sci_improvement',\n",
    "    'Social Studies: The GED program has significantly improved my understanding of history, government, and social topics. (1 = Strongly Disagree, 5 = Strongly Agree)\\n':'ss_improvement',\n",
    "    'RLA:  The GED program has significantly improved my reading comprehension and analysis of written texts.  (1 = Strongly Disagree, 5 = Strongly Agree)\\n':'rla_improvement',\n",
    "    'Which subject area(s) do you feel you improved the most in after the training?':'most_improved_sub',\n",
    "    'How would you describe your confidence in applying knowledge from the GED subjects in real-life situations, before the program?':'overall_improvement_bef',\n",
    "    'How would you describe your improvement in applying knowledge from the GED subjects in real-life situations, after the program?': 'overall_improvement_aft',\n",
    "    \"What specific changes or additions would you recommend to improve the GED program's training sessions, based on your experience and the skills you gained or still feel you need to improve?(Select up to 3 options)\":'improvement_recommendations',\n",
    "    'Which aspects of the GED program do you believe contributed the most to your improvement? (Select up to 3 options)':'key_improvement_factors',\n",
    "}, inplace=True)\n",
    "# # convert columns that has 3 answers to a list\n",
    "# pj2_survey_df['key_improvement_factors'] = pj2_survey_df['key_improvement_factors'].apply(lambda x: x.split(',') if isinstance(x, str) else x)\n",
    "# pj2_survey_df['improvement_recommendations'] = pj2_survey_df['improvement_recommendations'].apply(lambda x: x.split(',') if isinstance(x, str) else x)\n",
    "# print(pj2_survey_df.columns)"
   ]
  },
  {
   "cell_type": "code",
   "execution_count": 12,
   "metadata": {
    "id": "hoY3KK0-re98"
   },
   "outputs": [],
   "source": [
    "# read the students entrance data from git hub, raw data sets\n",
    "file_info_paths =[\n",
    "      ('https://raw.githubusercontent.com/myothida/DataAnalytics_Assignments/main/Assignment_00/data/1stBatch_Applicants.csv','utf-8','b1_app_df'),\n",
    "      ('https://raw.githubusercontent.com/myothida/DataAnalytics_Assignments/refs/heads/main/Assignment_00/data/1stBatch_Stduentdata.csv','utf-8','b1_students_df'),\n",
    "      ('https://raw.githubusercontent.com/myothida/DataAnalytics_Assignments/refs/heads/main/Assignment_00/data/1stBatch_Entrance_Score.csv','utf-8','b1_ent_score_df'),\n",
    "      ('https://github.com/iSTAREducation/mmdt-da-project01-team-2/raw/main/Assignment_00/data/2ndBatch_Applicants.csv','Windows-1252','b2_app_df'),\n",
    "      ('https://raw.githubusercontent.com/myothida/DataAnalytics_Assignments/refs/heads/main/Assignment_00/data/2ndBatch_Studentdata.csv','utf-8','b2_students_df'),\n",
    "      ('https://raw.githubusercontent.com/myothida/DataAnalytics_Assignments/refs/heads/main/Assignment_00/data/2ndBatch_Entrance_Scores.csv','utf-8','b2_ent_score_df'),\n",
    "      ('https://docs.google.com/spreadsheets/d/1MKl-4xtNqap8ON5nrLGJZcNoc7_wRn-b9srFKga-IOY/gviz/tq?tqx=out:csv','utf-8','att_df')\n",
    "  ]\n",
    "\n",
    "dataframes = convert_to_df(file_info_paths=file_info_paths)\n",
    "\n",
    "\n",
    "# raw student data\n",
    "b1_app_df = dataframes['b1_app_df']\n",
    "b1_students_df = dataframes['b1_students_df']\n",
    "b1_ent_score_df = dataframes['b1_ent_score_df']\n",
    "b2_app_df = dataframes['b2_app_df']\n",
    "b2_students_df = dataframes['b2_students_df']\n",
    "b2_ent_score_df = dataframes['b2_ent_score_df']\n",
    "\n",
    "# attendance data\n",
    "att_df = dataframes['att_df']\n"
   ]
  },
  {
   "cell_type": "code",
   "execution_count": 13,
   "metadata": {
    "colab": {
     "base_uri": "https://localhost:8080/"
    },
    "executionInfo": {
     "elapsed": 553,
     "status": "ok",
     "timestamp": 1729824904873,
     "user": {
      "displayName": "Nu Wai Thet",
      "userId": "06382744727100212464"
     },
     "user_tz": -390
    },
    "id": "ZITvZzHJk6I4",
    "outputId": "fb2c5e48-f37d-4dbb-84e8-f95b533a3235"
   },
   "outputs": [
    {
     "name": "stdout",
     "output_type": "stream",
     "text": [
      "    att_rla  att_sci  att_math    att_ss     Student ID   Batch\n",
      "27   100.0     98.7      96.1   100.000000  GED202402_66    2  \n",
      "28    95.7     93.4      94.7    94.400000  GED202402_67    2  \n",
      "29   100.0    100.0     100.0   100.000000    GED2024007    1  \n",
      "30    89.1     93.3      92.2    91.533333    GED2024017    1  \n",
      "31    98.5     98.3      97.8    98.200000    GED2024003    1  \n"
     ]
    },
    {
     "name": "stderr",
     "output_type": "stream",
     "text": [
      "C:\\Users\\nuwai\\Anaconda3\\lib\\site-packages\\ipykernel_launcher.py:6: SettingWithCopyWarning: \n",
      "A value is trying to be set on a copy of a slice from a DataFrame.\n",
      "Try using .loc[row_indexer,col_indexer] = value instead\n",
      "\n",
      "See the caveats in the documentation: https://pandas.pydata.org/pandas-docs/stable/user_guide/indexing.html#returning-a-view-versus-a-copy\n",
      "  \n",
      "C:\\Users\\nuwai\\Anaconda3\\lib\\site-packages\\pandas\\core\\frame.py:5047: SettingWithCopyWarning: \n",
      "A value is trying to be set on a copy of a slice from a DataFrame\n",
      "\n",
      "See the caveats in the documentation: https://pandas.pydata.org/pandas-docs/stable/user_guide/indexing.html#returning-a-view-versus-a-copy\n",
      "  errors=errors,\n"
     ]
    }
   ],
   "source": [
    "att_df = att_df[['Percentage','Percentage_sci','Percentage_math','Percentage_ss','Student ID','Batch']]\n",
    "# Calculate the mean for the specified columns\n",
    "mean_values = att_df[['Percentage', 'Percentage_sci', 'Percentage_math']].mean(axis=1)\n",
    "\n",
    "# Fill NaN values in 'Percentage_ss' with the calculated means\n",
    "att_df['Percentage_ss'] = att_df['Percentage_ss'].fillna(mean_values)\n",
    "\n",
    "#rename columns name not to confuse with subject score\n",
    "att_df.rename({'Percentage':'att_rla','Percentage_sci':'att_sci','Percentage_math':'att_math',\n",
    "                   'Percentage_ss':'att_ss'},inplace=True,axis=1)\n",
    "print(att_df.tail())"
   ]
  },
  {
   "cell_type": "code",
   "execution_count": 14,
   "metadata": {
    "colab": {
     "base_uri": "https://localhost:8080/"
    },
    "executionInfo": {
     "elapsed": 608,
     "status": "ok",
     "timestamp": 1729827265414,
     "user": {
      "displayName": "Nu Wai Thet",
      "userId": "06382744727100212464"
     },
     "user_tz": -390
    },
    "id": "Q2a1l46dsOqP",
    "outputId": "433e8146-58e0-4b2a-ab92-f3bf07bb6b33"
   },
   "outputs": [
    {
     "name": "stdout",
     "output_type": "stream",
     "text": [
      "   Sr.No  Student ID  Num_subjects_taken        Remark         Scholars   Type    Pre_Eng  Pre_Math Subjects To Attend   Age    Location      Highest Education      Specilization in High School  Batch  Final Score\n",
      "0    6    GED2024001           4                         Drop      4        Full   23.0      26.0     All 4 Subjects        22  Mandalay  Pass University First Year        ????(?) ??????           1       24.5    \n",
      "1   19    GED2024002           3          Math , Science, RLA      3        Full   39.0      38.0     All 4 Subjects        16  Mandalay              Pass 7th Grade        Not applicable           1       38.5    \n",
      "2   26    GED2024003           4                          NaN      4        Full   37.0      36.0     All 4 Subjects        19   Sagaing             Pass 10th Grade             ?????????           1       36.5    \n",
      "3   41    GED2024004           4                         Drop      4        Full   32.0      32.0     All 4 Subjects    15 yrs   Sagaing              Pass 7th Grade                   NaN           1       32.0    \n",
      "4    9    GED2024006           4                          NaN      2     Partial   33.0      28.0     All 4 Subjects        16    Yangon              Pass 8th Grade                 ?????           1       30.5    \n"
     ]
    }
   ],
   "source": [
    "# do basic cleaning steps to get a final dataframes for all students for batch 1\n",
    "# to get the final students who has passed the entrance, we will use b2_students_df and use left join\n",
    "b1_app_df.rename(columns={'Entranced':'Specilization in High School','Specilization in High School':'Entranced'}, inplace=True) #swap column name\n",
    "b1_final_df = b1_students_df.merge(b1_ent_score_df, on='Name', how='left').merge(b1_app_df, left_on='Sr.No',right_on='Student ID',how='left')\n",
    "#print(b1_final_df.head())\n",
    "b1_final_df.shape\n",
    "\n",
    "# drop uncessary and duplicaed columns\n",
    "b1_final_df.drop(['Name','Unnamed: 0','Student ID','Entranced','Current Job/School','Final Results'],axis=1,inplace=True)\n",
    "b1_final_df.rename(columns={'Eng': 'Pre_Eng', 'Math': 'Pre_Math','GED -ID':'Student ID'}, inplace=True)\n",
    "b1_final_df['Batch'] = 1 # creat new column to indicate batch number\n",
    "\n",
    "# b1_final_df.shape\n",
    "# b1_final_df.info()\n",
    "#b1_final_df.columns\n",
    "\n",
    "b1_final_df[['Pre_Eng','Pre_Math']].isna().sum() # 1 student Math score is missing\n",
    "b1_final_df['Pre_Math'] = b1_final_df['Pre_Math'].fillna(b1_final_df['Pre_Math'].mean())\n",
    "\n",
    "# create a new column Final Score to align with Batch 2 columns\n",
    "b1_final_df['Final Score'] = round((b1_final_df['Pre_Eng']+b1_final_df['Pre_Math'])/2,2)\n",
    "b1_final_df[['Pre_Eng','Pre_Math']].isna().sum()\n",
    "print(b1_final_df.head())\n",
    "#b1_final_df[['Pre_Eng','Pre_Math']].isna().sum()"
   ]
  },
  {
   "cell_type": "code",
   "execution_count": 15,
   "metadata": {
    "colab": {
     "base_uri": "https://localhost:8080/"
    },
    "executionInfo": {
     "elapsed": 520,
     "status": "ok",
     "timestamp": 1729825073034,
     "user": {
      "displayName": "Nu Wai Thet",
      "userId": "06382744727100212464"
     },
     "user_tz": -390
    },
    "id": "hyV9PVHbuhWI",
    "outputId": "73d82b7e-aa1b-45bb-931f-6ee59361c736"
   },
   "outputs": [],
   "source": [
    "# to get the final students who has passed the entrance, we will use b2_students_df and use left join\n",
    "b2_final_df = b2_students_df.merge(b2_ent_score_df,  on='Student ID',how='left').merge(b2_app_df, on='Student ID',how='left')\n",
    "#print(b2_final_df.head())\n",
    "b2_final_df.shape\n",
    "b2_final_df.drop(['Unnamed: 0','Pass/Fail','Entranced','Current Job/School'],axis=1,inplace=True) # keep Sr_No for now to align with B1 columns\n",
    "b2_final_df.rename(columns={'English': 'Pre_Eng', 'Math': 'Pre_Math','Sr. Num': 'Sr.No','Remarks' : 'Remark'}, inplace=True)\n",
    "b2_final_df['Batch'] = 2 # create a new column to indicate this is the batch 2\n",
    "\n",
    "# Update 'eng' and 'math' columns for'GED202402_105', confirmed by mentor\n",
    "b2_final_df.loc[b2_final_df['Student ID'] == 'GED202402_105', ['Pre_Eng', 'Pre_Math']] = 32\n",
    "b2_final_df.loc[b2_final_df['Student ID'] == 'GED202402_105', 'Final Score'] = (32 + 32) / 2"
   ]
  },
  {
   "cell_type": "code",
   "execution_count": 16,
   "metadata": {
    "colab": {
     "base_uri": "https://localhost:8080/"
    },
    "executionInfo": {
     "elapsed": 715,
     "status": "ok",
     "timestamp": 1729825738018,
     "user": {
      "displayName": "Nu Wai Thet",
      "userId": "06382744727100212464"
     },
     "user_tz": -390
    },
    "id": "F-v3Mdf-soDN",
    "outputId": "0e5d7533-7cae-4a1a-a0c7-49ae70c08157"
   },
   "outputs": [
    {
     "data": {
      "text/plain": [
       "(16, 15)"
      ]
     },
     "execution_count": 16,
     "metadata": {},
     "output_type": "execute_result"
    }
   ],
   "source": [
    "b1_final_df.shape"
   ]
  },
  {
   "cell_type": "code",
   "execution_count": 17,
   "metadata": {
    "colab": {
     "base_uri": "https://localhost:8080/"
    },
    "executionInfo": {
     "elapsed": 9,
     "status": "ok",
     "timestamp": 1729825739477,
     "user": {
      "displayName": "Nu Wai Thet",
      "userId": "06382744727100212464"
     },
     "user_tz": -390
    },
    "id": "t9qm2nagnhWm",
    "outputId": "97b6fff3-fabc-4ad2-f383-5f649e82b497"
   },
   "outputs": [
    {
     "data": {
      "text/plain": [
       "(39, 12)"
      ]
     },
     "execution_count": 17,
     "metadata": {},
     "output_type": "execute_result"
    }
   ],
   "source": [
    "b2_final_df.shape"
   ]
  },
  {
   "cell_type": "code",
   "execution_count": 18,
   "metadata": {
    "id": "zu_wZnSLpXEa"
   },
   "outputs": [],
   "source": [
    "#combine batch 1 and batch 2 student data horizontally and do some basic cleaning\n",
    "combined_df = pd.concat([b1_final_df, b2_final_df], ignore_index=True, sort=False)\n",
    "combined_df.shape\n",
    "\n",
    "#cleaning combined_df\n",
    "# round 2 decimal places\n",
    "combined_df['Pre_Math'] = round(combined_df['Pre_Math'],2)\n",
    "\n",
    "#for Batch2, all subjects should be taken, type is full, handle NAN values for batch 2\n",
    "combined_df.loc[combined_df['Batch'] == 2, 'Scholars'] = combined_df.loc[combined_df['Batch'] == 2, 'Scholars'].fillna(4)\n",
    "combined_df.loc[combined_df['Batch'] == 2, 'Type'] = combined_df.loc[combined_df['Batch'] == 2, 'Type'].fillna('Full')\n",
    "combined_df.loc[combined_df['Batch'] == 2, 'Num_subjects_taken'] = combined_df.loc[combined_df['Batch'] == 2, 'Num_subjects_taken'].fillna(4)\n",
    "combined_df.loc[combined_df['Batch'] == 2, 'Subjects To Attend'] = combined_df.loc[combined_df['Batch'] == 2, 'Subjects To Attend'].fillna('All 4 Subjects')\n",
    "\n",
    "# batch 1 does not have interview round, fill with 0 for placeholder only\n",
    "combined_df.loc[combined_df['Batch'] == 1, 'Interview'] = combined_df.loc[combined_df['Batch'] == 1, 'Interview'].fillna(0)\n",
    "combined_df['Remark'] = combined_df['Remark'].replace(['Drop'], 'Drop Out').str.title()\n",
    "\n",
    "# Replace 'yrs' and 'years'\n",
    "combined_df['Age'] = combined_df['Age'].str.replace('yrs', '').str.replace('years', '')\n",
    "# Remove any extra spaces\n",
    "combined_df['Age'] = combined_df['Age'].str.strip()\n",
    "# Convert to numeric\n",
    "combined_df['Age'] = pd.to_numeric(combined_df['Age'])\n",
    "\n",
    "\n",
    "#check Age and fillna with mean value\n",
    "(combined_df['Age'].max(),combined_df['Age'].min(),combined_df['Age'].mean())\n",
    "combined_df['Age'] = combined_df['Age'].fillna(combined_df['Age'].mean())\n",
    "combined_df[['Num_subjects_taken', 'Scholars', 'Age']] = combined_df[['Num_subjects_taken', 'Scholars', 'Age']].astype(int)\n"
   ]
  },
  {
   "cell_type": "code",
   "execution_count": 19,
   "metadata": {
    "colab": {
     "base_uri": "https://localhost:8080/"
    },
    "executionInfo": {
     "elapsed": 595,
     "status": "ok",
     "timestamp": 1729825888361,
     "user": {
      "displayName": "Nu Wai Thet",
      "userId": "06382744727100212464"
     },
     "user_tz": -390
    },
    "id": "87Y5srvuqBta",
    "outputId": "a82ca521-981a-4f6b-87fd-0f1abb8e5bc4"
   },
   "outputs": [
    {
     "name": "stdout",
     "output_type": "stream",
     "text": [
      "   Sr.No  Student ID  Num_subjects_taken        Remark         Scholars   Type    Pre_Eng  Pre_Math Subjects To Attend  Age  Location      Highest Education      Specilization in High School  Batch  Final Score  Interview\n",
      "0    6    GED2024001           4                     Drop Out      4        Full   23.0      26.0     All 4 Subjects    22   Mandalay  Pass University First Year        ????(?) ??????           1       24.5         0.0   \n",
      "1   19    GED2024002           3          Math , Science, Rla      3        Full   39.0      38.0     All 4 Subjects    16   Mandalay              Pass 7th Grade        Not applicable           1       38.5         0.0   \n",
      "2   26    GED2024003           4                          NaN      4        Full   37.0      36.0     All 4 Subjects    19    Sagaing             Pass 10th Grade             ?????????           1       36.5         0.0   \n",
      "3   41    GED2024004           4                     Drop Out      4        Full   32.0      32.0     All 4 Subjects    15    Sagaing              Pass 7th Grade                   NaN           1       32.0         0.0   \n",
      "4    9    GED2024006           4                          NaN      2     Partial   33.0      28.0     All 4 Subjects    16     Yangon              Pass 8th Grade                 ?????           1       30.5         0.0   \n"
     ]
    }
   ],
   "source": [
    "print(combined_df.head())"
   ]
  },
  {
   "cell_type": "markdown",
   "metadata": {
    "id": "zOyMLMd-rvdf"
   },
   "source": [
    "***************************************************************************\n",
    "***Here We are done with reading and loading all the necessary files and save it into pandas dataframe for furthur analysis***\n",
    "***************************************************************************"
   ]
  },
  {
   "cell_type": "markdown",
   "metadata": {
    "id": "YGF2lNM_sHNl"
   },
   "source": [
    "**Started Data cleaning and exploring data**"
   ]
  },
  {
   "cell_type": "markdown",
   "metadata": {
    "id": "F3NTyNLIq3A9"
   },
   "source": [
    "Interview column is only existed in Batch 2.\n",
    "So, check interview score performance and its weight to understand the importance of the feature.\n",
    "By checking this interview proportion, we can conclude that it is contributed around **52%** to pass the entrance.\n",
    "So we might need to notify students interview is important to get accepted so that they will prepare the interview session more seriously insted of just trying the luck"
   ]
  },
  {
   "cell_type": "markdown",
   "metadata": {},
   "source": [
    "Given that the average interview proportion is 52%, you can conclude that interview performance is\n",
    "important for acceptance. If the analyses above show that high interview proportions correlate with \n",
    "high final scores or that accepted students tend to have higher interview proportions,\n",
    "it reinforces the importance of performing well in the interview."
   ]
  },
  {
   "cell_type": "code",
   "execution_count": 20,
   "metadata": {
    "colab": {
     "base_uri": "https://localhost:8080/"
    },
    "executionInfo": {
     "elapsed": 546,
     "status": "ok",
     "timestamp": 1729826188788,
     "user": {
      "displayName": "Nu Wai Thet",
      "userId": "06382744727100212464"
     },
     "user_tz": -390
    },
    "id": "XlcEpEoWq5Zm",
    "outputId": "d855d119-32c8-4b88-a05c-96caac432858"
   },
   "outputs": [
    {
     "name": "stdout",
     "output_type": "stream",
     "text": [
      "Average interview contribution to pass the entrance is :0.5243298490670167\n",
      "Correlation between interview score and fincal score is:0.9389442819840538\n"
     ]
    }
   ],
   "source": [
    "# Now calculate the interview_proportion for Batch 2\n",
    "b2_ent_score_df.loc[:, 'interview_proportion'] =  b2_ent_score_df['Interview'] / ( b2_ent_score_df['English']+ b2_ent_score_df['Math'])\n",
    "\n",
    "# Calculate the average interview proportion for Batch 2\n",
    "avg_interview_proportion =  b2_ent_score_df['interview_proportion'].mean()\n",
    "\n",
    "# Print the result\n",
    "print(f\"Average interview contribution to pass the entrance is :{avg_interview_proportion}\")\n",
    "print(f\"Correlation between interview score and fincal score is:{b2_ent_score_df['Interview'].corr(b2_ent_score_df['Final Score'])}\")"
   ]
  },
  {
   "cell_type": "code",
   "execution_count": 21,
   "metadata": {},
   "outputs": [
    {
     "data": {
      "image/png": "[encoded data removed]",
      "text/plain": [
       "<Figure size 576x432 with 1 Axes>"
      ]
     },
     "metadata": {
      "needs_background": "light"
     },
     "output_type": "display_data"
    }
   ],
   "source": [
    "plt.figure(figsize=(8, 6))\n",
    "sns.scatterplot(data=b2_ent_score_df, x='Interview', y='Final Score')\n",
    "plt.axhline(60, color='red', linestyle='--', label=\"Pass Threshold (Final Score > 60)\")\n",
    "plt.title('Relationship Between Interview Score Vs Final Score')\n",
    "plt.xlabel(\"Interview Proportion\")\n",
    "plt.ylabel(\"Final Score\")\n",
    "plt.legend()\n",
    "plt.show()\n"
   ]
  },
  {
   "cell_type": "code",
   "execution_count": 22,
   "metadata": {},
   "outputs": [
    {
     "name": "stdout",
     "output_type": "stream",
     "text": [
      "Number of students who got accepted to the program:38\n",
      "Number of students who dropped out with Final Score > 60: 10 students.\n",
      "Percentage of dropouts with Final Score > 60: 26.32%\n",
      "\n",
      "Dropouts with Final Score > 60 by Age:\n",
      " 17    4\n",
      "24    1\n",
      "21    1\n",
      "22    1\n",
      "16    1\n",
      "15    1\n",
      "18    1\n",
      "Name: Age, dtype: int64\n"
     ]
    }
   ],
   "source": [
    "\n",
    "b2_ent_merge = b2_ent_score_df.merge(b2_students_df,on='Student ID',how='left',suffixes=('','_stu')).merge(b2_app_df,on='Student ID',how='left',suffixes=('','_app'))\n",
    "#standardize Drop Out Text\n",
    "b2_ent_merge['Remarks'] = b2_ent_merge['Remarks'].replace(['Drop'], 'Drop Out').str.title()\n",
    "\n",
    "#Filter students pass and fail\n",
    "dropout_above_60 = b2_ent_merge[(b2_ent_merge['Remarks'] == 'Drop Out') & (b2_ent_merge['Final Score'] > 60)]\n",
    "\n",
    "# Count and calculate percentage\n",
    "num_dropout_above_60 = dropout_above_60.shape[0]\n",
    "total_students_above_60 = b2_ent_merge[b2_ent_merge['Final Score'] > 60].shape[0]\n",
    "percentage_dropout_above_60 = (num_dropout_above_60 / total_students_above_60) * 100\n",
    "\n",
    "print(f\"Number of students who got accepted to the program:{total_students_above_60}\")\n",
    "print(f\"Number of students who dropped out with Final Score > 60: {num_dropout_above_60} students.\")\n",
    "print(f\"Percentage of dropouts with Final Score > 60: {percentage_dropout_above_60:.2f}%\")\n",
    "\n",
    "# # Check distribution by Location\n",
    "# location_distribution = dropout_above_60['Location'].value_counts()\n",
    "# print(\"Dropouts with Final Score > 60 by Location:\\n\", location_distribution)\n",
    "\n",
    "# Check distribution by Age\n",
    "age_distribution = dropout_above_60['Age'].value_counts()\n",
    "print(\"\\nDropouts with Final Score > 60 by Age:\\n\", age_distribution)\n",
    "\n",
    "# # Check distribution by Highest Education\n",
    "# education_distribution = dropout_above_60['Highest Education'].value_counts()\n",
    "# print(\"\\nDropouts with Final Score > 60 by Highest Education:\\n\", education_distribution)"
   ]
  },
  {
   "cell_type": "code",
   "execution_count": 23,
   "metadata": {},
   "outputs": [
    {
     "data": {
      "image/png": "[encoded data removed]",
      "text/plain": [
       "<Figure size 576x432 with 1 Axes>"
      ]
     },
     "metadata": {},
     "output_type": "display_data"
    }
   ],
   "source": [
    "# Data for pie chart\n",
    "sizes = [num_dropout_above_60, total_students_above_60 - num_dropout_above_60]\n",
    "colors = ['#ff9999','#66b3ff']\n",
    "explode = (0.1, 0)  # explode 1st slice to highlight dropouts\n",
    "labels = ['Dropped Out (Final Score > 60)', 'Accepted (Final Score > 60)']\n",
    "\n",
    "# Plot\n",
    "plt.figure(figsize=(8, 6))\n",
    "#explode is an optional parameter that is used to \"pull out\" or \"highlight\" specific slices of the pie chart\n",
    "plt.pie(sizes, labels=labels, autopct='%1.1f%%', startangle=140, colors=colors, explode=explode)\n",
    "plt.title(\"Percentage of Dropouts vs Accepted (Final Score > 60)\")\n",
    "plt.show()"
   ]
  },
  {
   "cell_type": "code",
   "execution_count": 24,
   "metadata": {},
   "outputs": [
    {
     "data": {
      "image/png": "[encoded data removed]",
      "text/plain": [
       "<Figure size 432x288 with 1 Axes>"
      ]
     },
     "metadata": {
      "needs_background": "light"
     },
     "output_type": "display_data"
    }
   ],
   "source": [
    "sns.countplot(data=dropout_above_60, x='Location', order=dropout_above_60['Location'].value_counts().index)\n",
    "plt.title(\"Dropouts with Final Score > 60 by Location\")\n",
    "plt.xlabel(\"Location\")\n",
    "plt.ylabel(\"Number of Dropouts\")\n",
    "plt.xticks(rotation=45)\n",
    "plt.show()"
   ]
  },
  {
   "cell_type": "markdown",
   "metadata": {
    "id": "MIw9ntmCrRAn"
   },
   "source": [
    "Checking Acceptance rate of the program"
   ]
  },
  {
   "cell_type": "code",
   "execution_count": 26,
   "metadata": {
    "colab": {
     "base_uri": "https://localhost:8080/"
    },
    "executionInfo": {
     "elapsed": 549,
     "status": "ok",
     "timestamp": 1729827589521,
     "user": {
      "displayName": "Nu Wai Thet",
      "userId": "06382744727100212464"
     },
     "user_tz": -390
    },
    "id": "AcR_E3oDrRhD",
    "outputId": "ce8d3b2d-621e-432b-dc18-9fa668c6ef99"
   },
   "outputs": [
    {
     "name": "stdout",
     "output_type": "stream",
     "text": [
      "   Batch  total students accepted  total students dropped out  Total Applicants  Acceptance_Rate\n",
      "0    2              39                         10                     105           37.142857   \n",
      "1    1              16                          7                      47           34.042553   \n"
     ]
    }
   ],
   "source": [
    "# Count total applicants, accepted, and completed for each batch\n",
    "# Reset the index and explicitly name the count column\n",
    "total_accepted = combined_df['Batch'].value_counts().reset_index()\n",
    "# Rename the columns\n",
    "total_accepted.columns = ['Batch', 'total students accepted']\n",
    "total_dropout = combined_df[combined_df['Remark'] == 'Drop Out'].groupby('Batch')['Remark'].count().reset_index()\n",
    "summary_data = total_accepted.merge(total_dropout, on='Batch', how='left')\n",
    "summary_data.rename(columns={'Remark':'total students dropped out'}, inplace=True)\n",
    "\n",
    "\n",
    "# get total applicants for each batch\n",
    "total_applicants = {\n",
    "    1: b1_app_df.shape[0],\n",
    "    2: b2_app_df.shape[0]\n",
    "}\n",
    "\n",
    "summary_data['Total Applicants'] = summary_data['Batch'].map(total_applicants)\n",
    "summary_data['Acceptance_Rate'] = (summary_data['total students accepted']/summary_data['Total Applicants']) * 100\n",
    "print(summary_data)"
   ]
  },
  {
   "cell_type": "code",
   "execution_count": 27,
   "metadata": {
    "colab": {
     "base_uri": "https://localhost:8080/"
    },
    "executionInfo": {
     "elapsed": 1078,
     "status": "ok",
     "timestamp": 1729828533767,
     "user": {
      "displayName": "Nu Wai Thet",
      "userId": "06382744727100212464"
     },
     "user_tz": -390
    },
    "id": "ZdQLEd9txLgh",
    "outputId": "375e441e-d49e-4f1b-8ca5-3c82ad721d61"
   },
   "outputs": [
    {
     "data": {
      "text/plain": [
       "<Figure size 720x432 with 0 Axes>"
      ]
     },
     "metadata": {},
     "output_type": "display_data"
    },
    {
     "data": {
      "image/png": "[encoded data removed]",
      "text/plain": [
       "<Figure size 432x288 with 1 Axes>"
      ]
     },
     "metadata": {
      "needs_background": "light"
     },
     "output_type": "display_data"
    }
   ],
   "source": [
    "import matplotlib.pyplot as plt\n",
    "import seaborn as sns\n",
    "\n",
    "# Set the figure size\n",
    "plt.figure(figsize=(10, 6))\n",
    "\n",
    "# Plotting side-by-side bars\n",
    "summary_data.plot(x='Batch',\n",
    "                 y=['Total Applicants', 'total students accepted', 'total students dropped out'],\n",
    "                 kind='bar')\n",
    "\n",
    "# Adding titles and labels\n",
    "plt.title('Comparison of Applicants, Accepted, and Dropped Out Students by Batch')\n",
    "plt.xlabel('Batch')\n",
    "plt.xticks(rotation=0)\n",
    "plt.ylabel('Number of Students')\n",
    "\n",
    "# Display the legend and show the plot\n",
    "plt.legend(title='Student Status')\n",
    "plt.tight_layout()\n",
    "plt.show()"
   ]
  },
  {
   "cell_type": "code",
   "execution_count": 28,
   "metadata": {},
   "outputs": [
    {
     "data": {
      "text/plain": [
       "Index(['Sr.No', 'Student ID', 'Num_subjects_taken', 'Remark', 'Scholars',\n",
       "       'Type', 'Pre_Eng', 'Pre_Math', 'Subjects To Attend', 'Age', 'Location',\n",
       "       'Highest Education', 'Specilization in High School', 'Batch',\n",
       "       'Final Score', 'Interview'],\n",
       "      dtype='object')"
      ]
     },
     "execution_count": 28,
     "metadata": {},
     "output_type": "execute_result"
    }
   ],
   "source": [
    "combined_df.columns"
   ]
  },
  {
   "cell_type": "code",
   "execution_count": 29,
   "metadata": {},
   "outputs": [
    {
     "name": "stdout",
     "output_type": "stream",
     "text": [
      "     Student ID    Num_subjects_taken    Remark    Pre_Eng  Pre_Math  Age Location Highest Education  Batch  Final Score\n",
      "50  GED202402_100           4                 NaN    8.0       8.5    16   Yangon     Pass 8th Grade    2       8.25    \n",
      "51  GED202402_101           4                 NaN    5.8       8.0    19    Kayin    Pass 10th Grade    2       6.90    \n",
      "52  GED202402_102           4                 NaN    8.4       9.0    18   Yangon     Pass 9th Grade    2       8.70    \n",
      "53  GED202402_104           4                 NaN    6.4       9.0    17   Yangon     Pass 9th Grade    2       7.70    \n",
      "54  GED202402_105           4          Substitute    3.2       3.2    16      Mon     Pass 9th Grade    2       3.20    \n"
     ]
    },
    {
     "name": "stderr",
     "output_type": "stream",
     "text": [
      "C:\\Users\\nuwai\\Anaconda3\\lib\\site-packages\\ipykernel_launcher.py:6: SettingWithCopyWarning: \n",
      "A value is trying to be set on a copy of a slice from a DataFrame.\n",
      "Try using .loc[row_indexer,col_indexer] = value instead\n",
      "\n",
      "See the caveats in the documentation: https://pandas.pydata.org/pandas-docs/stable/user_guide/indexing.html#returning-a-view-versus-a-copy\n",
      "  \n",
      "C:\\Users\\nuwai\\Anaconda3\\lib\\site-packages\\ipykernel_launcher.py:13: SettingWithCopyWarning: \n",
      "A value is trying to be set on a copy of a slice from a DataFrame.\n",
      "Try using .loc[row_indexer,col_indexer] = value instead\n",
      "\n",
      "See the caveats in the documentation: https://pandas.pydata.org/pandas-docs/stable/user_guide/indexing.html#returning-a-view-versus-a-copy\n",
      "  del sys.path[0]\n",
      "C:\\Users\\nuwai\\Anaconda3\\lib\\site-packages\\ipykernel_launcher.py:14: SettingWithCopyWarning: \n",
      "A value is trying to be set on a copy of a slice from a DataFrame.\n",
      "Try using .loc[row_indexer,col_indexer] = value instead\n",
      "\n",
      "See the caveats in the documentation: https://pandas.pydata.org/pandas-docs/stable/user_guide/indexing.html#returning-a-view-versus-a-copy\n",
      "  \n",
      "C:\\Users\\nuwai\\Anaconda3\\lib\\site-packages\\ipykernel_launcher.py:15: SettingWithCopyWarning: \n",
      "A value is trying to be set on a copy of a slice from a DataFrame.\n",
      "Try using .loc[row_indexer,col_indexer] = value instead\n",
      "\n",
      "See the caveats in the documentation: https://pandas.pydata.org/pandas-docs/stable/user_guide/indexing.html#returning-a-view-versus-a-copy\n",
      "  from ipykernel import kernelapp as app\n"
     ]
    }
   ],
   "source": [
    "cols_to_keep=['Student ID','Num_subjects_taken','Remark','Pre_Eng','Pre_Math','Age','Location','Highest Education','Batch','Final Score']\n",
    "selected_pre_df = combined_df[cols_to_keep]\n",
    "\n",
    "# Combine the Thailand columns with regex\n",
    "#this regex pattern matches any string that starts with \"Thailand\" and has anything (or nothing) in parentheses following it\n",
    "selected_pre_df['Location'] = selected_pre_df['Location'].replace({'Thailand \\(.*?\\)': 'Thailand'}, regex=True)\n",
    "selected_pre_df.head()\n",
    "#print(type(selected_pre_df))\n",
    "\n",
    "# do 10-point scale normalization for pre entrance score as well to do fair comparison with post scores\n",
    "max_score = 100 if selected_pre_df['Batch'].iloc[0] == 2 else 50\n",
    "# Apply 10-point scale normalization based on batch\n",
    "selected_pre_df['Pre_Eng'] = np.where(selected_pre_df['Batch'] == 2, (selected_pre_df['Pre_Eng'] / 100) * 10, (selected_pre_df['Pre_Eng'] / 50) * 10)\n",
    "selected_pre_df['Pre_Math'] = np.where(selected_pre_df['Batch'] == 2, (selected_pre_df['Pre_Math'] / 100) * 10, (selected_pre_df['Pre_Math'] / 50) * 10)\n",
    "selected_pre_df['Final Score'] = round((selected_pre_df['Pre_Eng']+selected_pre_df['Pre_Math'])/2,2)\n",
    "\n",
    "print(selected_pre_df.tail())\n"
   ]
  },
  {
   "cell_type": "markdown",
   "metadata": {},
   "source": [
    "# Entrance Score analysis"
   ]
  },
  {
   "cell_type": "code",
   "execution_count": 30,
   "metadata": {},
   "outputs": [
    {
     "data": {
      "text/html": [
       "<div>\n",
       "<style scoped>\n",
       "    .dataframe tbody tr th:only-of-type {\n",
       "        vertical-align: middle;\n",
       "    }\n",
       "\n",
       "    .dataframe tbody tr th {\n",
       "        vertical-align: top;\n",
       "    }\n",
       "\n",
       "    .dataframe thead th {\n",
       "        text-align: right;\n",
       "    }\n",
       "</style>\n",
       "<table border=\"1\" class=\"dataframe\">\n",
       "  <thead>\n",
       "    <tr style=\"text-align: center;\">\n",
       "      <th></th>\n",
       "      <th>max</th>\n",
       "      <th>min</th>\n",
       "      <th>mean</th>\n",
       "    </tr>\n",
       "    <tr>\n",
       "      <th>Batch</th>\n",
       "      <th></th>\n",
       "      <th></th>\n",
       "      <th></th>\n",
       "    </tr>\n",
       "  </thead>\n",
       "  <tbody>\n",
       "    <tr>\n",
       "      <th>1</th>\n",
       "      <td>8.0</td>\n",
       "      <td>4.5</td>\n",
       "      <td>6.701875</td>\n",
       "    </tr>\n",
       "    <tr>\n",
       "      <th>2</th>\n",
       "      <td>8.7</td>\n",
       "      <td>3.2</td>\n",
       "      <td>6.914103</td>\n",
       "    </tr>\n",
       "  </tbody>\n",
       "</table>\n",
       "</div>"
      ],
      "text/plain": [
       "       max  min    mean  \n",
       "Batch                    \n",
       "1      8.0  4.5  6.701875\n",
       "2      8.7  3.2  6.914103"
      ]
     },
     "execution_count": 30,
     "metadata": {},
     "output_type": "execute_result"
    }
   ],
   "source": [
    "selected_pre_df.groupby('Batch')['Final Score'].agg(['max','min','mean'])"
   ]
  },
  {
   "cell_type": "code",
   "execution_count": 31,
   "metadata": {},
   "outputs": [
    {
     "data": {
      "text/html": [
       "<div>\n",
       "<style scoped>\n",
       "    .dataframe tbody tr th:only-of-type {\n",
       "        vertical-align: middle;\n",
       "    }\n",
       "\n",
       "    .dataframe tbody tr th {\n",
       "        vertical-align: top;\n",
       "    }\n",
       "\n",
       "    .dataframe thead th {\n",
       "        text-align: right;\n",
       "    }\n",
       "</style>\n",
       "<table border=\"1\" class=\"dataframe\">\n",
       "  <thead>\n",
       "    <tr style=\"text-align: center;\">\n",
       "      <th></th>\n",
       "      <th>Pre_Eng</th>\n",
       "      <th>Pre_Math</th>\n",
       "      <th>Final Score</th>\n",
       "    </tr>\n",
       "  </thead>\n",
       "  <tbody>\n",
       "    <tr>\n",
       "      <th>count</th>\n",
       "      <td>55.000000</td>\n",
       "      <td>55.000000</td>\n",
       "      <td>55.000000</td>\n",
       "    </tr>\n",
       "    <tr>\n",
       "      <th>mean</th>\n",
       "      <td>6.432727</td>\n",
       "      <td>7.271891</td>\n",
       "      <td>6.852364</td>\n",
       "    </tr>\n",
       "    <tr>\n",
       "      <th>std</th>\n",
       "      <td>1.391915</td>\n",
       "      <td>1.474740</td>\n",
       "      <td>1.154272</td>\n",
       "    </tr>\n",
       "    <tr>\n",
       "      <th>min</th>\n",
       "      <td>3.200000</td>\n",
       "      <td>3.200000</td>\n",
       "      <td>3.200000</td>\n",
       "    </tr>\n",
       "    <tr>\n",
       "      <th>25%</th>\n",
       "      <td>5.400000</td>\n",
       "      <td>6.400000</td>\n",
       "      <td>6.250000</td>\n",
       "    </tr>\n",
       "    <tr>\n",
       "      <th>50%</th>\n",
       "      <td>6.400000</td>\n",
       "      <td>7.200000</td>\n",
       "      <td>6.800000</td>\n",
       "    </tr>\n",
       "    <tr>\n",
       "      <th>75%</th>\n",
       "      <td>7.800000</td>\n",
       "      <td>8.000000</td>\n",
       "      <td>7.700000</td>\n",
       "    </tr>\n",
       "    <tr>\n",
       "      <th>max</th>\n",
       "      <td>8.800000</td>\n",
       "      <td>10.000000</td>\n",
       "      <td>8.700000</td>\n",
       "    </tr>\n",
       "  </tbody>\n",
       "</table>\n",
       "</div>"
      ],
      "text/plain": [
       "        Pre_Eng   Pre_Math   Final Score\n",
       "count  55.000000  55.000000   55.000000 \n",
       "mean    6.432727   7.271891    6.852364 \n",
       "std     1.391915   1.474740    1.154272 \n",
       "min     3.200000   3.200000    3.200000 \n",
       "25%     5.400000   6.400000    6.250000 \n",
       "50%     6.400000   7.200000    6.800000 \n",
       "75%     7.800000   8.000000    7.700000 \n",
       "max     8.800000  10.000000    8.700000 "
      ]
     },
     "execution_count": 31,
     "metadata": {},
     "output_type": "execute_result"
    }
   ],
   "source": [
    "selected_pre_df[['Pre_Eng','Pre_Math','Final Score']].describe()"
   ]
  },
  {
   "cell_type": "code",
   "execution_count": 32,
   "metadata": {},
   "outputs": [
    {
     "data": {
      "image/png": "[encoded data removed]",
      "text/plain": [
       "<Figure size 432x288 with 1 Axes>"
      ]
     },
     "metadata": {
      "needs_background": "light"
     },
     "output_type": "display_data"
    }
   ],
   "source": [
    "# Impact of highest education\n",
    "education_performance = selected_pre_df.groupby('Highest Education')['Final Score'].mean()  #.reset_index()\n",
    "#education_performance.sort_values(by='n_Final_Score', ascending=False)\n",
    "education_performance.plot(kind='bar')\n",
    "plt.title('Average Final Score by Highest Education Level')\n",
    "plt.ylabel('Average Final Score')\n",
    "plt.show()"
   ]
  },
  {
   "cell_type": "code",
   "execution_count": 33,
   "metadata": {},
   "outputs": [
    {
     "name": "stdout",
     "output_type": "stream",
     "text": [
      "     Location   Final Score\n",
      "3       Magway   8.466667  \n",
      "8   Taninthary   7.950000  \n",
      "0         Bago   7.400000  \n",
      "6      Sagaing   7.212500  \n",
      "2        Kayin   7.200000  \n",
      "10      Yangon   7.030435  \n",
      "1       Kachin   6.950000  \n",
      "4     Mandalay   6.742857  \n",
      "7         Shan   5.916667  \n",
      "5          Mon   5.766000  \n",
      "9     Thailand   5.700000  \n"
     ]
    },
    {
     "data": {
      "image/png": "[encoded data removed]",
      "text/plain": [
       "<Figure size 720x360 with 1 Axes>"
      ]
     },
     "metadata": {
      "needs_background": "light"
     },
     "output_type": "display_data"
    }
   ],
   "source": [
    "location_performance = selected_pre_df.groupby('Location')['Final Score'].mean().reset_index()\n",
    "location_performance = location_performance.sort_values(by='Final Score', ascending=False)\n",
    "# Display the result\n",
    "print(location_performance)\n",
    "\n",
    "# Plot the average Final Score by Location\n",
    "plt.figure(figsize=(10, 5))\n",
    "sns.barplot(x='Location', y='Final Score', data=location_performance, palette='viridis')\n",
    "plt.title('Average Final Score by Location')\n",
    "plt.xlabel('Location')\n",
    "plt.ylabel('Average Final Score')\n",
    "plt.xticks(rotation=45)\n",
    "plt.show()\n",
    "\n",
    "# it is really surprising and amazing to see which locations scores the higheset mean."
   ]
  },
  {
   "cell_type": "markdown",
   "metadata": {},
   "source": [
    "# We are now Done with Entrance Analysis.\n",
    "To make furthur pre Vs post analysis, we need to combined the entrance data, exam scores data after joining program and surverys from students and teachers."
   ]
  },
  {
   "cell_type": "markdown",
   "metadata": {},
   "source": [
    "Lets recall our multiple data sets we have loaded into our dataframes.\n",
    "\n",
    "**Exam scores by batch 2**:\n",
    "sci_scores,\n",
    "math_scores,\n",
    "ss_scores,\n",
    "rla_scores\n",
    "\n",
    "**Exam scores by batch 2(due to some system error, only able to retrieve 3 students data only)**:\n",
    "b1_sci_scores, \n",
    "b1_rla_scores, \n",
    "b1_math_scores,\n",
    "b1_ss_score,\n",
    "\n",
    "**Student participation survery from teachers**:\n",
    "student_ptc_info_df\n",
    "\n",
    "**student feedback from students**:\n",
    "pj2_survey_df\n",
    "\n",
    "**attendance data for both batch**:\n",
    "att_df\n",
    "\n",
    "**Accepted student data**:\n",
    "selected_pre_df\n",
    "\n",
    "Please note that we only have pre scores for only math and english"
   ]
  },
  {
   "cell_type": "markdown",
   "metadata": {},
   "source": [
    "# Pre and Post scores Analysis"
   ]
  },
  {
   "cell_type": "code",
   "execution_count": 34,
   "metadata": {},
   "outputs": [
    {
     "data": {
      "text/html": [
       "<div>\n",
       "<style scoped>\n",
       "    .dataframe tbody tr th:only-of-type {\n",
       "        vertical-align: middle;\n",
       "    }\n",
       "\n",
       "    .dataframe tbody tr th {\n",
       "        vertical-align: top;\n",
       "    }\n",
       "\n",
       "    .dataframe thead th {\n",
       "        text-align: right;\n",
       "    }\n",
       "</style>\n",
       "<table border=\"1\" class=\"dataframe\">\n",
       "  <thead>\n",
       "    <tr style=\"text-align: center;\">\n",
       "      <th></th>\n",
       "      <th>Student ID</th>\n",
       "      <th>Num_subjects_taken</th>\n",
       "      <th>Remark</th>\n",
       "      <th>Pre_Eng</th>\n",
       "      <th>Pre_Math</th>\n",
       "      <th>Age</th>\n",
       "      <th>Location</th>\n",
       "      <th>Highest Education</th>\n",
       "      <th>Batch</th>\n",
       "      <th>Final Score</th>\n",
       "    </tr>\n",
       "  </thead>\n",
       "  <tbody>\n",
       "    <tr>\n",
       "      <th>1</th>\n",
       "      <td>GED2024002</td>\n",
       "      <td>3</td>\n",
       "      <td>Math , Science, Rla</td>\n",
       "      <td>7.8</td>\n",
       "      <td>7.6</td>\n",
       "      <td>16</td>\n",
       "      <td>Mandalay</td>\n",
       "      <td>Pass 7th Grade</td>\n",
       "      <td>1</td>\n",
       "      <td>7.7</td>\n",
       "    </tr>\n",
       "    <tr>\n",
       "      <th>2</th>\n",
       "      <td>GED2024003</td>\n",
       "      <td>4</td>\n",
       "      <td>NaN</td>\n",
       "      <td>7.4</td>\n",
       "      <td>7.2</td>\n",
       "      <td>19</td>\n",
       "      <td>Sagaing</td>\n",
       "      <td>Pass 10th Grade</td>\n",
       "      <td>1</td>\n",
       "      <td>7.3</td>\n",
       "    </tr>\n",
       "    <tr>\n",
       "      <th>4</th>\n",
       "      <td>GED2024006</td>\n",
       "      <td>4</td>\n",
       "      <td>NaN</td>\n",
       "      <td>6.6</td>\n",
       "      <td>5.6</td>\n",
       "      <td>16</td>\n",
       "      <td>Yangon</td>\n",
       "      <td>Pass 8th Grade</td>\n",
       "      <td>1</td>\n",
       "      <td>6.1</td>\n",
       "    </tr>\n",
       "    <tr>\n",
       "      <th>5</th>\n",
       "      <td>GED2024007</td>\n",
       "      <td>4</td>\n",
       "      <td>NaN</td>\n",
       "      <td>8.4</td>\n",
       "      <td>7.2</td>\n",
       "      <td>18</td>\n",
       "      <td>Yangon</td>\n",
       "      <td>Pass 10th Grade</td>\n",
       "      <td>1</td>\n",
       "      <td>7.8</td>\n",
       "    </tr>\n",
       "    <tr>\n",
       "      <th>6</th>\n",
       "      <td>GED2024008</td>\n",
       "      <td>4</td>\n",
       "      <td>NaN</td>\n",
       "      <td>5.4</td>\n",
       "      <td>6.0</td>\n",
       "      <td>17</td>\n",
       "      <td>Yangon</td>\n",
       "      <td>Pass 9th Grade</td>\n",
       "      <td>1</td>\n",
       "      <td>5.7</td>\n",
       "    </tr>\n",
       "  </tbody>\n",
       "</table>\n",
       "</div>"
      ],
      "text/plain": [
       "   Student ID  Num_subjects_taken        Remark         Pre_Eng  Pre_Math  Age  Location Highest Education  Batch  Final Score\n",
       "1  GED2024002           3          Math , Science, Rla    7.8       7.6    16   Mandalay    Pass 7th Grade    1        7.7    \n",
       "2  GED2024003           4                          NaN    7.4       7.2    19    Sagaing   Pass 10th Grade    1        7.3    \n",
       "4  GED2024006           4                          NaN    6.6       5.6    16     Yangon    Pass 8th Grade    1        6.1    \n",
       "5  GED2024007           4                          NaN    8.4       7.2    18     Yangon   Pass 10th Grade    1        7.8    \n",
       "6  GED2024008           4                          NaN    5.4       6.0    17     Yangon    Pass 9th Grade    1        5.7    "
      ]
     },
     "execution_count": 34,
     "metadata": {},
     "output_type": "execute_result"
    }
   ],
   "source": [
    "#filter only the actual participants in the program, remove Drop Out \n",
    "selected_pre_df = selected_pre_df[selected_pre_df['Remark'] != 'Drop Out']\n",
    "selected_pre_df.head()"
   ]
  },
  {
   "cell_type": "code",
   "execution_count": 35,
   "metadata": {},
   "outputs": [
    {
     "data": {
      "text/plain": [
       "(38, 10)"
      ]
     },
     "execution_count": 35,
     "metadata": {},
     "output_type": "execute_result"
    }
   ],
   "source": [
    "selected_pre_df.shape"
   ]
  },
  {
   "cell_type": "code",
   "execution_count": 36,
   "metadata": {},
   "outputs": [
    {
     "data": {
      "text/plain": [
       "(24, 7)"
      ]
     },
     "execution_count": 36,
     "metadata": {},
     "output_type": "execute_result"
    }
   ],
   "source": [
    "rla_scores.shape"
   ]
  },
  {
   "cell_type": "code",
   "execution_count": 37,
   "metadata": {},
   "outputs": [
    {
     "data": {
      "text/plain": [
       "(28, 8)"
      ]
     },
     "execution_count": 37,
     "metadata": {},
     "output_type": "execute_result"
    }
   ],
   "source": [
    "math_scores.shape"
   ]
  },
  {
   "cell_type": "code",
   "execution_count": 38,
   "metadata": {},
   "outputs": [
    {
     "data": {
      "text/plain": [
       "Index(['Email address', 'Grade/10.00_math_test2', 'Grade/10.00_math_test3',\n",
       "       'Grade/10.00_math_test6', 'Student ID', 'Batch', 'n_math_test1',\n",
       "       'avg_math'],\n",
       "      dtype='object')"
      ]
     },
     "execution_count": 38,
     "metadata": {},
     "output_type": "execute_result"
    }
   ],
   "source": [
    "math_scores.columns"
   ]
  },
  {
   "cell_type": "code",
   "execution_count": 39,
   "metadata": {},
   "outputs": [
    {
     "data": {
      "text/html": [
       "<div>\n",
       "<style scoped>\n",
       "    .dataframe tbody tr th:only-of-type {\n",
       "        vertical-align: middle;\n",
       "    }\n",
       "\n",
       "    .dataframe tbody tr th {\n",
       "        vertical-align: top;\n",
       "    }\n",
       "\n",
       "    .dataframe thead th {\n",
       "        text-align: right;\n",
       "    }\n",
       "</style>\n",
       "<table border=\"1\" class=\"dataframe\">\n",
       "  <thead>\n",
       "    <tr style=\"text-align: center;\">\n",
       "      <th></th>\n",
       "      <th>Student ID</th>\n",
       "      <th>Num_subjects_taken</th>\n",
       "      <th>Remark</th>\n",
       "      <th>Pre_Eng</th>\n",
       "      <th>Pre_Math</th>\n",
       "      <th>Age</th>\n",
       "      <th>Location</th>\n",
       "      <th>Highest Education</th>\n",
       "      <th>Batch</th>\n",
       "      <th>Final Score</th>\n",
       "    </tr>\n",
       "  </thead>\n",
       "  <tbody>\n",
       "    <tr>\n",
       "      <th>1</th>\n",
       "      <td>GED2024002</td>\n",
       "      <td>3</td>\n",
       "      <td>Math , Science, Rla</td>\n",
       "      <td>7.8</td>\n",
       "      <td>7.6</td>\n",
       "      <td>16</td>\n",
       "      <td>Mandalay</td>\n",
       "      <td>Pass 7th Grade</td>\n",
       "      <td>1</td>\n",
       "      <td>7.7</td>\n",
       "    </tr>\n",
       "    <tr>\n",
       "      <th>2</th>\n",
       "      <td>GED2024003</td>\n",
       "      <td>4</td>\n",
       "      <td>NaN</td>\n",
       "      <td>7.4</td>\n",
       "      <td>7.2</td>\n",
       "      <td>19</td>\n",
       "      <td>Sagaing</td>\n",
       "      <td>Pass 10th Grade</td>\n",
       "      <td>1</td>\n",
       "      <td>7.3</td>\n",
       "    </tr>\n",
       "    <tr>\n",
       "      <th>4</th>\n",
       "      <td>GED2024006</td>\n",
       "      <td>4</td>\n",
       "      <td>NaN</td>\n",
       "      <td>6.6</td>\n",
       "      <td>5.6</td>\n",
       "      <td>16</td>\n",
       "      <td>Yangon</td>\n",
       "      <td>Pass 8th Grade</td>\n",
       "      <td>1</td>\n",
       "      <td>6.1</td>\n",
       "    </tr>\n",
       "    <tr>\n",
       "      <th>5</th>\n",
       "      <td>GED2024007</td>\n",
       "      <td>4</td>\n",
       "      <td>NaN</td>\n",
       "      <td>8.4</td>\n",
       "      <td>7.2</td>\n",
       "      <td>18</td>\n",
       "      <td>Yangon</td>\n",
       "      <td>Pass 10th Grade</td>\n",
       "      <td>1</td>\n",
       "      <td>7.8</td>\n",
       "    </tr>\n",
       "    <tr>\n",
       "      <th>6</th>\n",
       "      <td>GED2024008</td>\n",
       "      <td>4</td>\n",
       "      <td>NaN</td>\n",
       "      <td>5.4</td>\n",
       "      <td>6.0</td>\n",
       "      <td>17</td>\n",
       "      <td>Yangon</td>\n",
       "      <td>Pass 9th Grade</td>\n",
       "      <td>1</td>\n",
       "      <td>5.7</td>\n",
       "    </tr>\n",
       "  </tbody>\n",
       "</table>\n",
       "</div>"
      ],
      "text/plain": [
       "   Student ID  Num_subjects_taken        Remark         Pre_Eng  Pre_Math  Age  Location Highest Education  Batch  Final Score\n",
       "1  GED2024002           3          Math , Science, Rla    7.8       7.6    16   Mandalay    Pass 7th Grade    1        7.7    \n",
       "2  GED2024003           4                          NaN    7.4       7.2    19    Sagaing   Pass 10th Grade    1        7.3    \n",
       "4  GED2024006           4                          NaN    6.6       5.6    16     Yangon    Pass 8th Grade    1        6.1    \n",
       "5  GED2024007           4                          NaN    8.4       7.2    18     Yangon   Pass 10th Grade    1        7.8    \n",
       "6  GED2024008           4                          NaN    5.4       6.0    17     Yangon    Pass 9th Grade    1        5.7    "
      ]
     },
     "execution_count": 39,
     "metadata": {},
     "output_type": "execute_result"
    }
   ],
   "source": [
    "selected_pre_df.columns\n",
    "selected_pre_df.head()"
   ]
  },
  {
   "cell_type": "code",
   "execution_count": 40,
   "metadata": {},
   "outputs": [
    {
     "ename": "NameError",
     "evalue": "name 'scores_df' is not defined",
     "output_type": "error",
     "traceback": [
      "\u001b[1;31m---------------------------------------------------------------------------\u001b[0m",
      "\u001b[1;31mNameError\u001b[0m                                 Traceback (most recent call last)",
      "\u001b[1;32m<ipython-input-40-c9df5121cb99>\u001b[0m in \u001b[0;36m<module>\u001b[1;34m\u001b[0m\n\u001b[0;32m     10\u001b[0m \u001b[1;31m#     print(\"All email addresses are included in math_scores.\")\u001b[0m\u001b[1;33m\u001b[0m\u001b[1;33m\u001b[0m\u001b[1;33m\u001b[0m\u001b[0m\n\u001b[0;32m     11\u001b[0m \u001b[1;33m\u001b[0m\u001b[0m\n\u001b[1;32m---> 12\u001b[1;33m \u001b[0mmissing_id\u001b[0m \u001b[1;33m=\u001b[0m \u001b[0mscores_df\u001b[0m\u001b[1;33m[\u001b[0m\u001b[1;33m~\u001b[0m\u001b[0mscores_df\u001b[0m\u001b[1;33m[\u001b[0m\u001b[1;34m'Student ID'\u001b[0m\u001b[1;33m]\u001b[0m\u001b[1;33m.\u001b[0m\u001b[0misin\u001b[0m\u001b[1;33m(\u001b[0m\u001b[0mselected_pre_df\u001b[0m\u001b[1;33m[\u001b[0m\u001b[1;34m'Student ID'\u001b[0m\u001b[1;33m]\u001b[0m\u001b[1;33m)\u001b[0m\u001b[1;33m]\u001b[0m\u001b[1;33m\u001b[0m\u001b[1;33m\u001b[0m\u001b[0m\n\u001b[0m\u001b[0;32m     13\u001b[0m \u001b[1;33m\u001b[0m\u001b[0m\n\u001b[0;32m     14\u001b[0m \u001b[1;31m# Print the missing email addresses\u001b[0m\u001b[1;33m\u001b[0m\u001b[1;33m\u001b[0m\u001b[1;33m\u001b[0m\u001b[0m\n",
      "\u001b[1;31mNameError\u001b[0m: name 'scores_df' is not defined"
     ]
    }
   ],
   "source": [
    "# # Identify email addresses in rla_scores that are not in math_scores\n",
    "# # sanity check only, to remove later\n",
    "# missing_emails = sci_scores[~sci_scores['Email address'].isin(rla_scores['Email address'])]\n",
    "\n",
    "# # Print the missing email addresses\n",
    "# if not missing_emails.empty:\n",
    "#     print(\"Email addresses not included in math_scores:\")\n",
    "#     print(missing_emails['Email address'])\n",
    "# else:\n",
    "#     print(\"All email addresses are included in math_scores.\")\n",
    "    \n",
    "missing_id = scores_df[~scores_df['Student ID'].isin(selected_pre_df['Student ID'])]\n",
    "\n",
    "# Print the missing email addresses\n",
    "if not missing_id.empty:\n",
    "    print(\"ID not included in math_scores:\")\n",
    "    print(missing_id['Student ID'])\n",
    "else:\n",
    "    print(\"All ID are included in math_scores.\")"
   ]
  },
  {
   "cell_type": "code",
   "execution_count": 41,
   "metadata": {},
   "outputs": [
    {
     "name": "stdout",
     "output_type": "stream",
     "text": [
      "(29, 27)\n",
      "Index(['Email address', 'Grade/10.00_math_test2', 'Grade/10.00_math_test3',\n",
      "       'Grade/10.00_math_test6', 'Student ID', 'Batch', 'n_math_test1',\n",
      "       'avg_math', 'Grade/10.00_rla_test1', 'Grade/10.00_rla_test2', 'avg_rla',\n",
      "       'Grade/10.00_sci_test1', 'Grade/10.00_sci_test2',\n",
      "       'Grade/10.00_sci_test3', 'Grade/10.00_sci_test4', 'avg_sci',\n",
      "       'n_ss_test1', 'n_ss_test2', 'n_ss_test3', 'avg_ss'],\n",
      "      dtype='object')\n"
     ]
    }
   ],
   "source": [
    "scores_df = math_scores.merge(rla_scores, on='Email address',how='outer',suffixes=('','_post'))\\\n",
    "        .merge(sci_scores, on='Email address',how='outer', suffixes=('','_post'))\\\n",
    "        .merge(ss_scores, on='Email address',how='outer',suffixes=('','_post'))\n",
    "        #.merge(selected_pre_df,on='Student ID',how='left',suffixes=('','_pre'))\n",
    "print(scores_df.shape)\n",
    "\n",
    "col_to_drop = ['Student ID_post','Batch_post'] # remove duplicated columns\n",
    "scores_df.drop(columns=col_to_drop,inplace=True)\n",
    "\n",
    "\n",
    "scores_df.isna().sum()\n",
    "scores_df = scores_df.drop(columns='Grade/10.00_rla_test3') # remove since all are Nan vlaues, Not yet graded\n",
    "print(scores_df.columns)"
   ]
  },
  {
   "cell_type": "code",
   "execution_count": 42,
   "metadata": {},
   "outputs": [
    {
     "data": {
      "text/plain": [
       "Email address             0\n",
       "Grade/10.00_math_test2    0\n",
       "Grade/10.00_math_test3    0\n",
       "Grade/10.00_math_test6    0\n",
       "Student ID                3\n",
       "Batch                     1\n",
       "n_math_test1              0\n",
       "avg_math                  0\n",
       "Grade/10.00_rla_test1     0\n",
       "Grade/10.00_rla_test2     0\n",
       "avg_rla                   0\n",
       "Grade/10.00_sci_test1     0\n",
       "Grade/10.00_sci_test2     0\n",
       "Grade/10.00_sci_test3     0\n",
       "Grade/10.00_sci_test4     0\n",
       "avg_sci                   0\n",
       "n_ss_test1                0\n",
       "n_ss_test2                0\n",
       "n_ss_test3                0\n",
       "avg_ss                    0\n",
       "dtype: int64"
      ]
     },
     "execution_count": 42,
     "metadata": {},
     "output_type": "execute_result"
    }
   ],
   "source": [
    "# fill na values based on the class avg, since some students don't have record at all.\n",
    "score_col = [\n",
    "    'Grade/10.00_math_test2','Grade/10.00_math_test3','Grade/10.00_math_test6','n_math_test1','avg_math',\n",
    "    'Grade/10.00_rla_test1','Grade/10.00_rla_test2','avg_rla',\n",
    "    'Grade/10.00_sci_test1','Grade/10.00_sci_test2','Grade/10.00_sci_test3','Grade/10.00_sci_test4','avg_sci',\n",
    "    'n_ss_test1','n_ss_test2','n_ss_test3','avg_ss'\n",
    "]\n",
    "scores_df[score_col]= round(scores_df[score_col].fillna(scores_df[score_col].mean()),2)\n",
    "scores_df.isna().sum()"
   ]
  },
  {
   "cell_type": "code",
   "execution_count": 43,
   "metadata": {},
   "outputs": [
    {
     "data": {
      "text/html": [
       "<div>\n",
       "<style scoped>\n",
       "    .dataframe tbody tr th:only-of-type {\n",
       "        vertical-align: middle;\n",
       "    }\n",
       "\n",
       "    .dataframe tbody tr th {\n",
       "        vertical-align: top;\n",
       "    }\n",
       "\n",
       "    .dataframe thead th {\n",
       "        text-align: right;\n",
       "    }\n",
       "</style>\n",
       "<table border=\"1\" class=\"dataframe\">\n",
       "  <thead>\n",
       "    <tr style=\"text-align: center;\">\n",
       "      <th></th>\n",
       "      <th>Email address</th>\n",
       "      <th>Grade/10.00_math_test2</th>\n",
       "      <th>Grade/10.00_math_test3</th>\n",
       "      <th>Grade/10.00_math_test6</th>\n",
       "      <th>Student ID</th>\n",
       "      <th>Batch</th>\n",
       "      <th>n_math_test1</th>\n",
       "      <th>avg_math</th>\n",
       "      <th>Grade/10.00_rla_test1</th>\n",
       "      <th>Grade/10.00_rla_test2</th>\n",
       "      <th>avg_rla</th>\n",
       "      <th>Grade/10.00_sci_test1</th>\n",
       "      <th>Grade/10.00_sci_test2</th>\n",
       "      <th>Grade/10.00_sci_test3</th>\n",
       "      <th>Grade/10.00_sci_test4</th>\n",
       "      <th>avg_sci</th>\n",
       "      <th>n_ss_test1</th>\n",
       "      <th>n_ss_test2</th>\n",
       "      <th>n_ss_test3</th>\n",
       "      <th>avg_ss</th>\n",
       "    </tr>\n",
       "  </thead>\n",
       "  <tbody>\n",
       "    <tr>\n",
       "      <th>23</th>\n",
       "      <td>valnxiris@gmail.com</td>\n",
       "      <td>8.44</td>\n",
       "      <td>9.23</td>\n",
       "      <td>7.06</td>\n",
       "      <td>NaN</td>\n",
       "      <td>2.0</td>\n",
       "      <td>9.2</td>\n",
       "      <td>8.48</td>\n",
       "      <td>10.00</td>\n",
       "      <td>8.97</td>\n",
       "      <td>9.48</td>\n",
       "      <td>7.00</td>\n",
       "      <td>8.82</td>\n",
       "      <td>9.80</td>\n",
       "      <td>9.82</td>\n",
       "      <td>8.86</td>\n",
       "      <td>9.00</td>\n",
       "      <td>8.09</td>\n",
       "      <td>8.18</td>\n",
       "      <td>8.43</td>\n",
       "    </tr>\n",
       "    <tr>\n",
       "      <th>26</th>\n",
       "      <td>yuuyii483@gmail.com</td>\n",
       "      <td>10.00</td>\n",
       "      <td>10.00</td>\n",
       "      <td>7.65</td>\n",
       "      <td>NaN</td>\n",
       "      <td>2.0</td>\n",
       "      <td>9.0</td>\n",
       "      <td>9.16</td>\n",
       "      <td>8.33</td>\n",
       "      <td>8.97</td>\n",
       "      <td>8.65</td>\n",
       "      <td>8.00</td>\n",
       "      <td>7.65</td>\n",
       "      <td>7.12</td>\n",
       "      <td>8.25</td>\n",
       "      <td>7.76</td>\n",
       "      <td>7.00</td>\n",
       "      <td>7.62</td>\n",
       "      <td>8.77</td>\n",
       "      <td>7.80</td>\n",
       "    </tr>\n",
       "    <tr>\n",
       "      <th>28</th>\n",
       "      <td>myatkokokhant@gmail.com</td>\n",
       "      <td>8.44</td>\n",
       "      <td>8.46</td>\n",
       "      <td>7.69</td>\n",
       "      <td>NaN</td>\n",
       "      <td>NaN</td>\n",
       "      <td>8.9</td>\n",
       "      <td>8.35</td>\n",
       "      <td>7.22</td>\n",
       "      <td>7.56</td>\n",
       "      <td>7.29</td>\n",
       "      <td>7.65</td>\n",
       "      <td>7.67</td>\n",
       "      <td>7.63</td>\n",
       "      <td>7.84</td>\n",
       "      <td>7.61</td>\n",
       "      <td>7.15</td>\n",
       "      <td>7.23</td>\n",
       "      <td>6.14</td>\n",
       "      <td>6.14</td>\n",
       "    </tr>\n",
       "  </tbody>\n",
       "</table>\n",
       "</div>"
      ],
      "text/plain": [
       "        Email address        Grade/10.00_math_test2  Grade/10.00_math_test3  Grade/10.00_math_test6 Student ID  Batch  n_math_test1  avg_math  Grade/10.00_rla_test1  Grade/10.00_rla_test2  avg_rla  Grade/10.00_sci_test1  Grade/10.00_sci_test2  Grade/10.00_sci_test3  Grade/10.00_sci_test4  avg_sci  n_ss_test1  n_ss_test2  n_ss_test3  avg_ss\n",
       "23      valnxiris@gmail.com            8.44                    9.23                   7.06              NaN      2.0        9.2        8.48            10.00                  8.97            9.48            7.00                   8.82                   9.80                   9.82            8.86       9.00        8.09        8.18      8.43 \n",
       "26      yuuyii483@gmail.com           10.00                   10.00                   7.65              NaN      2.0        9.0        9.16             8.33                  8.97            8.65            8.00                   7.65                   7.12                   8.25            7.76       7.00        7.62        8.77      7.80 \n",
       "28  myatkokokhant@gmail.com            8.44                    8.46                   7.69              NaN      NaN        8.9        8.35             7.22                  7.56            7.29            7.65                   7.67                   7.63                   7.84            7.61       7.15        7.23        6.14      6.14 "
      ]
     },
     "execution_count": 43,
     "metadata": {},
     "output_type": "execute_result"
    }
   ],
   "source": [
    "scores_df[scores_df['Student ID'].isna()]"
   ]
  },
  {
   "cell_type": "code",
   "execution_count": 44,
   "metadata": {},
   "outputs": [
    {
     "data": {
      "text/plain": [
       "Email address             0\n",
       "Grade/10.00_math_test2    0\n",
       "Grade/10.00_math_test3    0\n",
       "Grade/10.00_math_test6    0\n",
       "Student ID                0\n",
       "Batch                     1\n",
       "n_math_test1              0\n",
       "avg_math                  0\n",
       "Grade/10.00_rla_test1     0\n",
       "Grade/10.00_rla_test2     0\n",
       "avg_rla                   0\n",
       "Grade/10.00_sci_test1     0\n",
       "Grade/10.00_sci_test2     0\n",
       "Grade/10.00_sci_test3     0\n",
       "Grade/10.00_sci_test4     0\n",
       "avg_sci                   0\n",
       "n_ss_test1                0\n",
       "n_ss_test2                0\n",
       "n_ss_test3                0\n",
       "avg_ss                    0\n",
       "dtype: int64"
      ]
     },
     "execution_count": 44,
     "metadata": {},
     "output_type": "execute_result"
    }
   ],
   "source": [
    "#fill student ID\n",
    "id_map = {\n",
    "    'valnxiris@gmail.com': 'GED202402_73',\n",
    "    'yuuyii483@gmail.com': 'GED202402_102',\n",
    "    'myatkokokhant@gmail.com': 'GED202402_105'\n",
    "}\n",
    "# Use map to fill in the 'Student ID' based on 'Email address'\n",
    "scores_df['Student ID'] = scores_df['Email address'].map(id_map).fillna(scores_df['Student ID'])\n",
    "\n",
    "scores_df.isna().sum()"
   ]
  },
  {
   "cell_type": "code",
   "execution_count": 45,
   "metadata": {},
   "outputs": [
    {
     "data": {
      "text/plain": [
       "(29, 20)"
      ]
     },
     "execution_count": 45,
     "metadata": {},
     "output_type": "execute_result"
    }
   ],
   "source": [
    "scores_df.shape"
   ]
  },
  {
   "cell_type": "code",
   "execution_count": 46,
   "metadata": {},
   "outputs": [
    {
     "data": {
      "text/plain": [
       "(38, 10)"
      ]
     },
     "execution_count": 46,
     "metadata": {},
     "output_type": "execute_result"
    }
   ],
   "source": [
    "selected_pre_df.shape"
   ]
  },
  {
   "cell_type": "code",
   "execution_count": 47,
   "metadata": {},
   "outputs": [
    {
     "data": {
      "text/plain": [
       "(29, 69)"
      ]
     },
     "execution_count": 47,
     "metadata": {},
     "output_type": "execute_result"
    }
   ],
   "source": [
    "pre_post_df=scores_df.merge(selected_pre_df,on='Student ID',how='left',suffixes=('','_pre')).merge(att_df,on='Student ID',how='left',suffixes=('','_att')).merge(pj2_survey_df,on='Student ID',how='left',suffixes=('','_sv')).merge(student_ptc_info_df,on='Student ID',how='left',suffixes=('','_ptc'))\n",
    "#make sure no rows are dropped after merge\n",
    "pre_post_df.shape"
   ]
  },
  {
   "cell_type": "code",
   "execution_count": 48,
   "metadata": {},
   "outputs": [],
   "source": [
    "#rename confusing column name\n",
    "pre_post_df.rename({'Final Score':'Pre_avg_score'},inplace=True,axis=1)"
   ]
  },
  {
   "cell_type": "code",
   "execution_count": 49,
   "metadata": {},
   "outputs": [
    {
     "data": {
      "text/plain": [
       "Index(['Email address', 'Grade/10.00_math_test2', 'Grade/10.00_math_test3',\n",
       "       'Grade/10.00_math_test6', 'Student ID', 'Batch', 'n_math_test1',\n",
       "       'avg_math', 'Grade/10.00_rla_test1', 'Grade/10.00_rla_test2', 'avg_rla',\n",
       "       'Grade/10.00_sci_test1', 'Grade/10.00_sci_test2',\n",
       "       'Grade/10.00_sci_test3', 'Grade/10.00_sci_test4', 'avg_sci',\n",
       "       'n_ss_test1', 'n_ss_test2', 'n_ss_test3', 'avg_ss',\n",
       "       'Num_subjects_taken', 'Remark', 'Pre_Eng', 'Pre_Math', 'Age',\n",
       "       'Location', 'Highest Education', 'Batch_pre', 'Pre_avg_score',\n",
       "       'att_rla', 'att_sci', 'att_math', 'att_ss', 'Batch_att',\n",
       "       'confidence_bef_math', 'confidence_bef_rla', 'confidence_bef_sci',\n",
       "       'confidence_bef_ss', 'confidence_aft_math', 'confidence_aft_rla',\n",
       "       'confidence_aft_sci', 'confidence_aft_ss', 'Expectations_Met',\n",
       "       'math_improvement', 'sci_improvement', 'ss_improvement',\n",
       "       'rla_improvement', 'most_improved_sub', 'overall_improvement_bef',\n",
       "       'overall_improvement_aft', 'improvement_recommendations',\n",
       "       'key_improvement_factors', 'Batch_sv', 'Attention_In_Class_math',\n",
       "       'Active_Engagement_math', 'Group_Participation_math',\n",
       "       'Clear_Answers_math', 'Attention_In_Class_sci', 'Active_Engagement_sci',\n",
       "       'Group_Participation_sci', 'Clear_Answers_sci', 'Attention_In_Class_ss',\n",
       "       'Active_Engagement_ss', 'Group_Participation_ss', 'Clear_Answers_ss',\n",
       "       'Attention_In_Class_rla', 'Active_Engagement_rla',\n",
       "       'Group_Participation_rla', 'Clear_Answers_rla'],\n",
       "      dtype='object')"
      ]
     },
     "execution_count": 49,
     "metadata": {},
     "output_type": "execute_result"
    }
   ],
   "source": [
    "pre_post_df.columns"
   ]
  },
  {
   "cell_type": "code",
   "execution_count": 50,
   "metadata": {},
   "outputs": [
    {
     "data": {
      "text/html": [
       "<div>\n",
       "<style scoped>\n",
       "    .dataframe tbody tr th:only-of-type {\n",
       "        vertical-align: middle;\n",
       "    }\n",
       "\n",
       "    .dataframe tbody tr th {\n",
       "        vertical-align: top;\n",
       "    }\n",
       "\n",
       "    .dataframe thead th {\n",
       "        text-align: right;\n",
       "    }\n",
       "</style>\n",
       "<table border=\"1\" class=\"dataframe\">\n",
       "  <thead>\n",
       "    <tr style=\"text-align: center;\">\n",
       "      <th></th>\n",
       "      <th>avg_att</th>\n",
       "    </tr>\n",
       "  </thead>\n",
       "  <tbody>\n",
       "    <tr>\n",
       "      <th>0</th>\n",
       "      <td>90.58</td>\n",
       "    </tr>\n",
       "    <tr>\n",
       "      <th>1</th>\n",
       "      <td>91.45</td>\n",
       "    </tr>\n",
       "    <tr>\n",
       "      <th>2</th>\n",
       "      <td>94.55</td>\n",
       "    </tr>\n",
       "    <tr>\n",
       "      <th>3</th>\n",
       "      <td>99.68</td>\n",
       "    </tr>\n",
       "    <tr>\n",
       "      <th>4</th>\n",
       "      <td>93.98</td>\n",
       "    </tr>\n",
       "  </tbody>\n",
       "</table>\n",
       "</div>"
      ],
      "text/plain": [
       "   avg_att\n",
       "0   90.58 \n",
       "1   91.45 \n",
       "2   94.55 \n",
       "3   99.68 \n",
       "4   93.98 "
      ]
     },
     "execution_count": 50,
     "metadata": {},
     "output_type": "execute_result"
    }
   ],
   "source": [
    "pre_post_df['avg_att'] = pre_post_df[['att_rla','att_sci','att_math','att_ss']].mean(axis=1)\n",
    "pre_post_df['avg_att'].fillna(pre_post_df['avg_att'].mean(), inplace=True)\n",
    "pre_post_df['avg_att'] = round(pre_post_df['avg_att'],2)\n",
    "pre_post_df[['avg_att']].head()"
   ]
  },
  {
   "cell_type": "code",
   "execution_count": 51,
   "metadata": {},
   "outputs": [
    {
     "data": {
      "text/html": [
       "<div>\n",
       "<style scoped>\n",
       "    .dataframe tbody tr th:only-of-type {\n",
       "        vertical-align: middle;\n",
       "    }\n",
       "\n",
       "    .dataframe tbody tr th {\n",
       "        vertical-align: top;\n",
       "    }\n",
       "\n",
       "    .dataframe thead th {\n",
       "        text-align: right;\n",
       "    }\n",
       "</style>\n",
       "<table border=\"1\" class=\"dataframe\">\n",
       "  <thead>\n",
       "    <tr style=\"text-align: center;\">\n",
       "      <th></th>\n",
       "      <th>avg_post_all_sub</th>\n",
       "    </tr>\n",
       "  </thead>\n",
       "  <tbody>\n",
       "    <tr>\n",
       "      <th>0</th>\n",
       "      <td>6.85</td>\n",
       "    </tr>\n",
       "    <tr>\n",
       "      <th>1</th>\n",
       "      <td>7.11</td>\n",
       "    </tr>\n",
       "    <tr>\n",
       "      <th>2</th>\n",
       "      <td>7.85</td>\n",
       "    </tr>\n",
       "    <tr>\n",
       "      <th>3</th>\n",
       "      <td>8.65</td>\n",
       "    </tr>\n",
       "    <tr>\n",
       "      <th>4</th>\n",
       "      <td>7.97</td>\n",
       "    </tr>\n",
       "  </tbody>\n",
       "</table>\n",
       "</div>"
      ],
      "text/plain": [
       "   avg_post_all_sub\n",
       "0        6.85      \n",
       "1        7.11      \n",
       "2        7.85      \n",
       "3        8.65      \n",
       "4        7.97      "
      ]
     },
     "execution_count": 51,
     "metadata": {},
     "output_type": "execute_result"
    }
   ],
   "source": [
    "pre_post_df['avg_post_all_sub'] = round(pre_post_df[['avg_rla','avg_math','avg_ss','avg_sci']].mean(axis=1),2)\n",
    "pre_post_df[['avg_post_all_sub']].head()"
   ]
  },
  {
   "cell_type": "code",
   "execution_count": 52,
   "metadata": {},
   "outputs": [
    {
     "data": {
      "image/png": "[encoded data removed]",
      "text/plain": [
       "<Figure size 432x288 with 1 Axes>"
      ]
     },
     "metadata": {
      "needs_background": "light"
     },
     "output_type": "display_data"
    },
    {
     "name": "stdout",
     "output_type": "stream",
     "text": [
      "0.26344188598450907\n"
     ]
    }
   ],
   "source": [
    "pre_post_df.plot(kind='scatter',x='avg_att',y='avg_post_all_sub')\n",
    "plt.show()\n",
    "att_corr = pre_post_df['avg_post_all_sub'].corr(pre_post_df['avg_att'])\n",
    "print(att_corr)"
   ]
  },
  {
   "cell_type": "code",
   "execution_count": 53,
   "metadata": {},
   "outputs": [
    {
     "data": {
      "text/html": [
       "<div>\n",
       "<style scoped>\n",
       "    .dataframe tbody tr th:only-of-type {\n",
       "        vertical-align: middle;\n",
       "    }\n",
       "\n",
       "    .dataframe tbody tr th {\n",
       "        vertical-align: top;\n",
       "    }\n",
       "\n",
       "    .dataframe thead th {\n",
       "        text-align: right;\n",
       "    }\n",
       "</style>\n",
       "<table border=\"1\" class=\"dataframe\">\n",
       "  <thead>\n",
       "    <tr style=\"text-align: center;\">\n",
       "      <th></th>\n",
       "      <th>Student ID</th>\n",
       "      <th>avg_math</th>\n",
       "      <th>Pre_Math</th>\n",
       "      <th>math_imp_%</th>\n",
       "    </tr>\n",
       "  </thead>\n",
       "  <tbody>\n",
       "    <tr>\n",
       "      <th>0</th>\n",
       "      <td>GED202402_104</td>\n",
       "      <td>6.86</td>\n",
       "      <td>9.0</td>\n",
       "      <td>-23.777778</td>\n",
       "    </tr>\n",
       "    <tr>\n",
       "      <th>1</th>\n",
       "      <td>GED202402_94</td>\n",
       "      <td>8.36</td>\n",
       "      <td>8.0</td>\n",
       "      <td>4.500000</td>\n",
       "    </tr>\n",
       "    <tr>\n",
       "      <th>2</th>\n",
       "      <td>GED202402_67</td>\n",
       "      <td>8.48</td>\n",
       "      <td>9.0</td>\n",
       "      <td>-5.777778</td>\n",
       "    </tr>\n",
       "    <tr>\n",
       "      <th>3</th>\n",
       "      <td>GED202402_09</td>\n",
       "      <td>8.71</td>\n",
       "      <td>5.0</td>\n",
       "      <td>74.200000</td>\n",
       "    </tr>\n",
       "    <tr>\n",
       "      <th>4</th>\n",
       "      <td>GED202402_92</td>\n",
       "      <td>8.77</td>\n",
       "      <td>6.0</td>\n",
       "      <td>46.166667</td>\n",
       "    </tr>\n",
       "    <tr>\n",
       "      <th>5</th>\n",
       "      <td>GED202402_25</td>\n",
       "      <td>9.80</td>\n",
       "      <td>9.0</td>\n",
       "      <td>8.888889</td>\n",
       "    </tr>\n",
       "    <tr>\n",
       "      <th>6</th>\n",
       "      <td>GED202402_58</td>\n",
       "      <td>6.18</td>\n",
       "      <td>6.5</td>\n",
       "      <td>-4.923077</td>\n",
       "    </tr>\n",
       "    <tr>\n",
       "      <th>7</th>\n",
       "      <td>GED202402_19</td>\n",
       "      <td>6.62</td>\n",
       "      <td>8.0</td>\n",
       "      <td>-17.250000</td>\n",
       "    </tr>\n",
       "    <tr>\n",
       "      <th>8</th>\n",
       "      <td>GED202402_07</td>\n",
       "      <td>8.59</td>\n",
       "      <td>6.0</td>\n",
       "      <td>43.166667</td>\n",
       "    </tr>\n",
       "    <tr>\n",
       "      <th>9</th>\n",
       "      <td>GED202402_85</td>\n",
       "      <td>9.31</td>\n",
       "      <td>9.5</td>\n",
       "      <td>-2.000000</td>\n",
       "    </tr>\n",
       "    <tr>\n",
       "      <th>10</th>\n",
       "      <td>GED202402_66</td>\n",
       "      <td>9.64</td>\n",
       "      <td>9.5</td>\n",
       "      <td>1.473684</td>\n",
       "    </tr>\n",
       "    <tr>\n",
       "      <th>11</th>\n",
       "      <td>GED202402_61</td>\n",
       "      <td>8.76</td>\n",
       "      <td>9.0</td>\n",
       "      <td>-2.666667</td>\n",
       "    </tr>\n",
       "    <tr>\n",
       "      <th>12</th>\n",
       "      <td>GED202402_48</td>\n",
       "      <td>4.70</td>\n",
       "      <td>10.0</td>\n",
       "      <td>-53.000000</td>\n",
       "    </tr>\n",
       "    <tr>\n",
       "      <th>13</th>\n",
       "      <td>GED202402_101</td>\n",
       "      <td>9.05</td>\n",
       "      <td>8.0</td>\n",
       "      <td>13.125000</td>\n",
       "    </tr>\n",
       "    <tr>\n",
       "      <th>14</th>\n",
       "      <td>GED202402_100</td>\n",
       "      <td>9.22</td>\n",
       "      <td>8.5</td>\n",
       "      <td>8.470588</td>\n",
       "    </tr>\n",
       "    <tr>\n",
       "      <th>15</th>\n",
       "      <td>GED202402_08</td>\n",
       "      <td>8.44</td>\n",
       "      <td>8.0</td>\n",
       "      <td>5.500000</td>\n",
       "    </tr>\n",
       "    <tr>\n",
       "      <th>16</th>\n",
       "      <td>GED202402_81</td>\n",
       "      <td>9.51</td>\n",
       "      <td>8.0</td>\n",
       "      <td>18.875000</td>\n",
       "    </tr>\n",
       "    <tr>\n",
       "      <th>17</th>\n",
       "      <td>GED202402_59</td>\n",
       "      <td>9.16</td>\n",
       "      <td>8.0</td>\n",
       "      <td>14.500000</td>\n",
       "    </tr>\n",
       "    <tr>\n",
       "      <th>18</th>\n",
       "      <td>GED202402_90</td>\n",
       "      <td>7.53</td>\n",
       "      <td>9.0</td>\n",
       "      <td>-16.333333</td>\n",
       "    </tr>\n",
       "    <tr>\n",
       "      <th>19</th>\n",
       "      <td>GED202402_38</td>\n",
       "      <td>8.80</td>\n",
       "      <td>7.5</td>\n",
       "      <td>17.333333</td>\n",
       "    </tr>\n",
       "    <tr>\n",
       "      <th>20</th>\n",
       "      <td>GED202402_91</td>\n",
       "      <td>6.22</td>\n",
       "      <td>8.0</td>\n",
       "      <td>-22.250000</td>\n",
       "    </tr>\n",
       "    <tr>\n",
       "      <th>21</th>\n",
       "      <td>GED202402_15</td>\n",
       "      <td>9.75</td>\n",
       "      <td>9.0</td>\n",
       "      <td>8.333333</td>\n",
       "    </tr>\n",
       "    <tr>\n",
       "      <th>22</th>\n",
       "      <td>GED202402_49</td>\n",
       "      <td>8.99</td>\n",
       "      <td>10.0</td>\n",
       "      <td>-10.100000</td>\n",
       "    </tr>\n",
       "    <tr>\n",
       "      <th>23</th>\n",
       "      <td>GED202402_73</td>\n",
       "      <td>8.48</td>\n",
       "      <td>8.0</td>\n",
       "      <td>6.000000</td>\n",
       "    </tr>\n",
       "    <tr>\n",
       "      <th>24</th>\n",
       "      <td>GED202402_93</td>\n",
       "      <td>7.73</td>\n",
       "      <td>7.0</td>\n",
       "      <td>10.428571</td>\n",
       "    </tr>\n",
       "    <tr>\n",
       "      <th>25</th>\n",
       "      <td>GED202402_78</td>\n",
       "      <td>8.16</td>\n",
       "      <td>7.0</td>\n",
       "      <td>16.571429</td>\n",
       "    </tr>\n",
       "    <tr>\n",
       "      <th>26</th>\n",
       "      <td>GED202402_102</td>\n",
       "      <td>9.16</td>\n",
       "      <td>9.0</td>\n",
       "      <td>1.777778</td>\n",
       "    </tr>\n",
       "    <tr>\n",
       "      <th>27</th>\n",
       "      <td>GED202402_36</td>\n",
       "      <td>8.67</td>\n",
       "      <td>6.0</td>\n",
       "      <td>44.500000</td>\n",
       "    </tr>\n",
       "    <tr>\n",
       "      <th>28</th>\n",
       "      <td>GED202402_105</td>\n",
       "      <td>8.35</td>\n",
       "      <td>3.2</td>\n",
       "      <td>160.937500</td>\n",
       "    </tr>\n",
       "  </tbody>\n",
       "</table>\n",
       "</div>"
      ],
      "text/plain": [
       "     Student ID    avg_math  Pre_Math  math_imp_%\n",
       "0   GED202402_104    6.86       9.0    -23.777778\n",
       "1    GED202402_94    8.36       8.0      4.500000\n",
       "2    GED202402_67    8.48       9.0     -5.777778\n",
       "3    GED202402_09    8.71       5.0     74.200000\n",
       "4    GED202402_92    8.77       6.0     46.166667\n",
       "5    GED202402_25    9.80       9.0      8.888889\n",
       "6    GED202402_58    6.18       6.5     -4.923077\n",
       "7    GED202402_19    6.62       8.0    -17.250000\n",
       "8    GED202402_07    8.59       6.0     43.166667\n",
       "9    GED202402_85    9.31       9.5     -2.000000\n",
       "10   GED202402_66    9.64       9.5      1.473684\n",
       "11   GED202402_61    8.76       9.0     -2.666667\n",
       "12   GED202402_48    4.70      10.0    -53.000000\n",
       "13  GED202402_101    9.05       8.0     13.125000\n",
       "14  GED202402_100    9.22       8.5      8.470588\n",
       "15   GED202402_08    8.44       8.0      5.500000\n",
       "16   GED202402_81    9.51       8.0     18.875000\n",
       "17   GED202402_59    9.16       8.0     14.500000\n",
       "18   GED202402_90    7.53       9.0    -16.333333\n",
       "19   GED202402_38    8.80       7.5     17.333333\n",
       "20   GED202402_91    6.22       8.0    -22.250000\n",
       "21   GED202402_15    9.75       9.0      8.333333\n",
       "22   GED202402_49    8.99      10.0    -10.100000\n",
       "23   GED202402_73    8.48       8.0      6.000000\n",
       "24   GED202402_93    7.73       7.0     10.428571\n",
       "25   GED202402_78    8.16       7.0     16.571429\n",
       "26  GED202402_102    9.16       9.0      1.777778\n",
       "27   GED202402_36    8.67       6.0     44.500000\n",
       "28  GED202402_105    8.35       3.2    160.937500"
      ]
     },
     "execution_count": 53,
     "metadata": {},
     "output_type": "execute_result"
    }
   ],
   "source": [
    "pre_post_df['math_imp_%'] = ((pre_post_df['avg_math'] -pre_post_df['Pre_Math'])/pre_post_df['Pre_Math'])*100\n",
    "pre_post_df[['Student ID','avg_math','Pre_Math','math_imp_%']]"
   ]
  },
  {
   "cell_type": "code",
   "execution_count": 54,
   "metadata": {},
   "outputs": [
    {
     "data": {
      "text/html": [
       "<div>\n",
       "<style scoped>\n",
       "    .dataframe tbody tr th:only-of-type {\n",
       "        vertical-align: middle;\n",
       "    }\n",
       "\n",
       "    .dataframe tbody tr th {\n",
       "        vertical-align: top;\n",
       "    }\n",
       "\n",
       "    .dataframe thead th {\n",
       "        text-align: right;\n",
       "    }\n",
       "</style>\n",
       "<table border=\"1\" class=\"dataframe\">\n",
       "  <thead>\n",
       "    <tr style=\"text-align: center;\">\n",
       "      <th></th>\n",
       "      <th>Student ID</th>\n",
       "      <th>avg_rla</th>\n",
       "      <th>Pre_Eng</th>\n",
       "      <th>rla_imp_%</th>\n",
       "    </tr>\n",
       "  </thead>\n",
       "  <tbody>\n",
       "    <tr>\n",
       "      <th>0</th>\n",
       "      <td>GED202402_104</td>\n",
       "      <td>6.11</td>\n",
       "      <td>6.4</td>\n",
       "      <td>-4.531250</td>\n",
       "    </tr>\n",
       "    <tr>\n",
       "      <th>1</th>\n",
       "      <td>GED202402_94</td>\n",
       "      <td>4.44</td>\n",
       "      <td>8.6</td>\n",
       "      <td>-48.372093</td>\n",
       "    </tr>\n",
       "    <tr>\n",
       "      <th>2</th>\n",
       "      <td>GED202402_67</td>\n",
       "      <td>7.27</td>\n",
       "      <td>4.6</td>\n",
       "      <td>58.043478</td>\n",
       "    </tr>\n",
       "    <tr>\n",
       "      <th>3</th>\n",
       "      <td>GED202402_09</td>\n",
       "      <td>8.82</td>\n",
       "      <td>5.8</td>\n",
       "      <td>52.068966</td>\n",
       "    </tr>\n",
       "    <tr>\n",
       "      <th>4</th>\n",
       "      <td>GED202402_92</td>\n",
       "      <td>7.59</td>\n",
       "      <td>4.8</td>\n",
       "      <td>58.125000</td>\n",
       "    </tr>\n",
       "    <tr>\n",
       "      <th>5</th>\n",
       "      <td>GED202402_25</td>\n",
       "      <td>9.38</td>\n",
       "      <td>8.0</td>\n",
       "      <td>17.250000</td>\n",
       "    </tr>\n",
       "    <tr>\n",
       "      <th>6</th>\n",
       "      <td>GED202402_58</td>\n",
       "      <td>7.29</td>\n",
       "      <td>8.0</td>\n",
       "      <td>-8.875000</td>\n",
       "    </tr>\n",
       "    <tr>\n",
       "      <th>7</th>\n",
       "      <td>GED202402_19</td>\n",
       "      <td>7.29</td>\n",
       "      <td>4.8</td>\n",
       "      <td>51.875000</td>\n",
       "    </tr>\n",
       "    <tr>\n",
       "      <th>8</th>\n",
       "      <td>GED202402_07</td>\n",
       "      <td>7.59</td>\n",
       "      <td>7.0</td>\n",
       "      <td>8.428571</td>\n",
       "    </tr>\n",
       "    <tr>\n",
       "      <th>9</th>\n",
       "      <td>GED202402_85</td>\n",
       "      <td>7.16</td>\n",
       "      <td>6.4</td>\n",
       "      <td>11.875000</td>\n",
       "    </tr>\n",
       "    <tr>\n",
       "      <th>10</th>\n",
       "      <td>GED202402_66</td>\n",
       "      <td>7.48</td>\n",
       "      <td>7.8</td>\n",
       "      <td>-4.102564</td>\n",
       "    </tr>\n",
       "    <tr>\n",
       "      <th>11</th>\n",
       "      <td>GED202402_61</td>\n",
       "      <td>8.61</td>\n",
       "      <td>8.2</td>\n",
       "      <td>5.000000</td>\n",
       "    </tr>\n",
       "    <tr>\n",
       "      <th>12</th>\n",
       "      <td>GED202402_48</td>\n",
       "      <td>5.00</td>\n",
       "      <td>5.0</td>\n",
       "      <td>0.000000</td>\n",
       "    </tr>\n",
       "    <tr>\n",
       "      <th>13</th>\n",
       "      <td>GED202402_101</td>\n",
       "      <td>5.43</td>\n",
       "      <td>5.8</td>\n",
       "      <td>-6.379310</td>\n",
       "    </tr>\n",
       "    <tr>\n",
       "      <th>14</th>\n",
       "      <td>GED202402_100</td>\n",
       "      <td>9.03</td>\n",
       "      <td>8.0</td>\n",
       "      <td>12.875000</td>\n",
       "    </tr>\n",
       "    <tr>\n",
       "      <th>15</th>\n",
       "      <td>GED202402_08</td>\n",
       "      <td>7.29</td>\n",
       "      <td>5.4</td>\n",
       "      <td>35.000000</td>\n",
       "    </tr>\n",
       "    <tr>\n",
       "      <th>16</th>\n",
       "      <td>GED202402_81</td>\n",
       "      <td>9.20</td>\n",
       "      <td>5.0</td>\n",
       "      <td>84.000000</td>\n",
       "    </tr>\n",
       "    <tr>\n",
       "      <th>17</th>\n",
       "      <td>GED202402_59</td>\n",
       "      <td>4.50</td>\n",
       "      <td>4.8</td>\n",
       "      <td>-6.250000</td>\n",
       "    </tr>\n",
       "    <tr>\n",
       "      <th>18</th>\n",
       "      <td>GED202402_90</td>\n",
       "      <td>8.03</td>\n",
       "      <td>5.6</td>\n",
       "      <td>43.392857</td>\n",
       "    </tr>\n",
       "    <tr>\n",
       "      <th>19</th>\n",
       "      <td>GED202402_38</td>\n",
       "      <td>3.94</td>\n",
       "      <td>6.6</td>\n",
       "      <td>-40.303030</td>\n",
       "    </tr>\n",
       "    <tr>\n",
       "      <th>20</th>\n",
       "      <td>GED202402_91</td>\n",
       "      <td>6.33</td>\n",
       "      <td>7.0</td>\n",
       "      <td>-9.571429</td>\n",
       "    </tr>\n",
       "    <tr>\n",
       "      <th>21</th>\n",
       "      <td>GED202402_15</td>\n",
       "      <td>8.97</td>\n",
       "      <td>8.0</td>\n",
       "      <td>12.125000</td>\n",
       "    </tr>\n",
       "    <tr>\n",
       "      <th>22</th>\n",
       "      <td>GED202402_49</td>\n",
       "      <td>9.83</td>\n",
       "      <td>7.4</td>\n",
       "      <td>32.837838</td>\n",
       "    </tr>\n",
       "    <tr>\n",
       "      <th>23</th>\n",
       "      <td>GED202402_73</td>\n",
       "      <td>9.48</td>\n",
       "      <td>6.6</td>\n",
       "      <td>43.636364</td>\n",
       "    </tr>\n",
       "    <tr>\n",
       "      <th>24</th>\n",
       "      <td>GED202402_93</td>\n",
       "      <td>6.33</td>\n",
       "      <td>6.0</td>\n",
       "      <td>5.500000</td>\n",
       "    </tr>\n",
       "    <tr>\n",
       "      <th>25</th>\n",
       "      <td>GED202402_78</td>\n",
       "      <td>7.29</td>\n",
       "      <td>4.6</td>\n",
       "      <td>58.478261</td>\n",
       "    </tr>\n",
       "    <tr>\n",
       "      <th>26</th>\n",
       "      <td>GED202402_102</td>\n",
       "      <td>8.65</td>\n",
       "      <td>8.4</td>\n",
       "      <td>2.976190</td>\n",
       "    </tr>\n",
       "    <tr>\n",
       "      <th>27</th>\n",
       "      <td>GED202402_36</td>\n",
       "      <td>5.82</td>\n",
       "      <td>5.4</td>\n",
       "      <td>7.777778</td>\n",
       "    </tr>\n",
       "    <tr>\n",
       "      <th>28</th>\n",
       "      <td>GED202402_105</td>\n",
       "      <td>7.29</td>\n",
       "      <td>3.2</td>\n",
       "      <td>127.812500</td>\n",
       "    </tr>\n",
       "  </tbody>\n",
       "</table>\n",
       "</div>"
      ],
      "text/plain": [
       "     Student ID    avg_rla  Pre_Eng   rla_imp_%\n",
       "0   GED202402_104   6.11      6.4     -4.531250\n",
       "1    GED202402_94   4.44      8.6    -48.372093\n",
       "2    GED202402_67   7.27      4.6     58.043478\n",
       "3    GED202402_09   8.82      5.8     52.068966\n",
       "4    GED202402_92   7.59      4.8     58.125000\n",
       "5    GED202402_25   9.38      8.0     17.250000\n",
       "6    GED202402_58   7.29      8.0     -8.875000\n",
       "7    GED202402_19   7.29      4.8     51.875000\n",
       "8    GED202402_07   7.59      7.0      8.428571\n",
       "9    GED202402_85   7.16      6.4     11.875000\n",
       "10   GED202402_66   7.48      7.8     -4.102564\n",
       "11   GED202402_61   8.61      8.2      5.000000\n",
       "12   GED202402_48   5.00      5.0      0.000000\n",
       "13  GED202402_101   5.43      5.8     -6.379310\n",
       "14  GED202402_100   9.03      8.0     12.875000\n",
       "15   GED202402_08   7.29      5.4     35.000000\n",
       "16   GED202402_81   9.20      5.0     84.000000\n",
       "17   GED202402_59   4.50      4.8     -6.250000\n",
       "18   GED202402_90   8.03      5.6     43.392857\n",
       "19   GED202402_38   3.94      6.6    -40.303030\n",
       "20   GED202402_91   6.33      7.0     -9.571429\n",
       "21   GED202402_15   8.97      8.0     12.125000\n",
       "22   GED202402_49   9.83      7.4     32.837838\n",
       "23   GED202402_73   9.48      6.6     43.636364\n",
       "24   GED202402_93   6.33      6.0      5.500000\n",
       "25   GED202402_78   7.29      4.6     58.478261\n",
       "26  GED202402_102   8.65      8.4      2.976190\n",
       "27   GED202402_36   5.82      5.4      7.777778\n",
       "28  GED202402_105   7.29      3.2    127.812500"
      ]
     },
     "execution_count": 54,
     "metadata": {},
     "output_type": "execute_result"
    }
   ],
   "source": [
    "pre_post_df['rla_imp_%'] = ((pre_post_df['avg_rla'] -pre_post_df['Pre_Eng'])/pre_post_df['Pre_Eng'])*100\n",
    "pre_post_df[['Student ID','avg_rla','Pre_Eng','rla_imp_%']]"
   ]
  },
  {
   "cell_type": "code",
   "execution_count": 55,
   "metadata": {},
   "outputs": [
    {
     "data": {
      "text/html": [
       "<div>\n",
       "<style scoped>\n",
       "    .dataframe tbody tr th:only-of-type {\n",
       "        vertical-align: middle;\n",
       "    }\n",
       "\n",
       "    .dataframe tbody tr th {\n",
       "        vertical-align: top;\n",
       "    }\n",
       "\n",
       "    .dataframe thead th {\n",
       "        text-align: right;\n",
       "    }\n",
       "</style>\n",
       "<table border=\"1\" class=\"dataframe\">\n",
       "  <thead>\n",
       "    <tr style=\"text-align: center;\">\n",
       "      <th></th>\n",
       "      <th>Student ID</th>\n",
       "      <th>Pre_avg_score</th>\n",
       "      <th>avg_sci</th>\n",
       "      <th>sci_imp_%</th>\n",
       "    </tr>\n",
       "  </thead>\n",
       "  <tbody>\n",
       "    <tr>\n",
       "      <th>0</th>\n",
       "      <td>GED202402_104</td>\n",
       "      <td>7.70</td>\n",
       "      <td>7.67</td>\n",
       "      <td>-0.389610</td>\n",
       "    </tr>\n",
       "    <tr>\n",
       "      <th>1</th>\n",
       "      <td>GED202402_94</td>\n",
       "      <td>8.30</td>\n",
       "      <td>7.66</td>\n",
       "      <td>-7.710843</td>\n",
       "    </tr>\n",
       "    <tr>\n",
       "      <th>2</th>\n",
       "      <td>GED202402_67</td>\n",
       "      <td>6.80</td>\n",
       "      <td>8.21</td>\n",
       "      <td>20.735294</td>\n",
       "    </tr>\n",
       "    <tr>\n",
       "      <th>3</th>\n",
       "      <td>GED202402_09</td>\n",
       "      <td>5.40</td>\n",
       "      <td>8.51</td>\n",
       "      <td>57.592593</td>\n",
       "    </tr>\n",
       "    <tr>\n",
       "      <th>4</th>\n",
       "      <td>GED202402_92</td>\n",
       "      <td>5.40</td>\n",
       "      <td>8.36</td>\n",
       "      <td>54.814815</td>\n",
       "    </tr>\n",
       "    <tr>\n",
       "      <th>5</th>\n",
       "      <td>GED202402_25</td>\n",
       "      <td>8.50</td>\n",
       "      <td>8.06</td>\n",
       "      <td>-5.176471</td>\n",
       "    </tr>\n",
       "    <tr>\n",
       "      <th>6</th>\n",
       "      <td>GED202402_58</td>\n",
       "      <td>7.25</td>\n",
       "      <td>8.57</td>\n",
       "      <td>18.206897</td>\n",
       "    </tr>\n",
       "    <tr>\n",
       "      <th>7</th>\n",
       "      <td>GED202402_19</td>\n",
       "      <td>6.40</td>\n",
       "      <td>3.00</td>\n",
       "      <td>-53.125000</td>\n",
       "    </tr>\n",
       "    <tr>\n",
       "      <th>8</th>\n",
       "      <td>GED202402_07</td>\n",
       "      <td>6.50</td>\n",
       "      <td>6.52</td>\n",
       "      <td>0.307692</td>\n",
       "    </tr>\n",
       "    <tr>\n",
       "      <th>9</th>\n",
       "      <td>GED202402_85</td>\n",
       "      <td>7.95</td>\n",
       "      <td>10.00</td>\n",
       "      <td>25.786164</td>\n",
       "    </tr>\n",
       "    <tr>\n",
       "      <th>10</th>\n",
       "      <td>GED202402_66</td>\n",
       "      <td>8.65</td>\n",
       "      <td>7.36</td>\n",
       "      <td>-14.913295</td>\n",
       "    </tr>\n",
       "    <tr>\n",
       "      <th>11</th>\n",
       "      <td>GED202402_61</td>\n",
       "      <td>8.60</td>\n",
       "      <td>7.38</td>\n",
       "      <td>-14.186047</td>\n",
       "    </tr>\n",
       "    <tr>\n",
       "      <th>12</th>\n",
       "      <td>GED202402_48</td>\n",
       "      <td>7.50</td>\n",
       "      <td>8.79</td>\n",
       "      <td>17.200000</td>\n",
       "    </tr>\n",
       "    <tr>\n",
       "      <th>13</th>\n",
       "      <td>GED202402_101</td>\n",
       "      <td>6.90</td>\n",
       "      <td>7.64</td>\n",
       "      <td>10.724638</td>\n",
       "    </tr>\n",
       "    <tr>\n",
       "      <th>14</th>\n",
       "      <td>GED202402_100</td>\n",
       "      <td>8.25</td>\n",
       "      <td>8.72</td>\n",
       "      <td>5.696970</td>\n",
       "    </tr>\n",
       "    <tr>\n",
       "      <th>15</th>\n",
       "      <td>GED202402_08</td>\n",
       "      <td>6.70</td>\n",
       "      <td>6.24</td>\n",
       "      <td>-6.865672</td>\n",
       "    </tr>\n",
       "    <tr>\n",
       "      <th>16</th>\n",
       "      <td>GED202402_81</td>\n",
       "      <td>6.50</td>\n",
       "      <td>9.10</td>\n",
       "      <td>40.000000</td>\n",
       "    </tr>\n",
       "    <tr>\n",
       "      <th>17</th>\n",
       "      <td>GED202402_59</td>\n",
       "      <td>6.40</td>\n",
       "      <td>8.42</td>\n",
       "      <td>31.562500</td>\n",
       "    </tr>\n",
       "    <tr>\n",
       "      <th>18</th>\n",
       "      <td>GED202402_90</td>\n",
       "      <td>7.30</td>\n",
       "      <td>6.84</td>\n",
       "      <td>-6.301370</td>\n",
       "    </tr>\n",
       "    <tr>\n",
       "      <th>19</th>\n",
       "      <td>GED202402_38</td>\n",
       "      <td>7.05</td>\n",
       "      <td>6.86</td>\n",
       "      <td>-2.695035</td>\n",
       "    </tr>\n",
       "    <tr>\n",
       "      <th>20</th>\n",
       "      <td>GED202402_91</td>\n",
       "      <td>7.50</td>\n",
       "      <td>7.07</td>\n",
       "      <td>-5.733333</td>\n",
       "    </tr>\n",
       "    <tr>\n",
       "      <th>21</th>\n",
       "      <td>GED202402_15</td>\n",
       "      <td>8.50</td>\n",
       "      <td>8.02</td>\n",
       "      <td>-5.647059</td>\n",
       "    </tr>\n",
       "    <tr>\n",
       "      <th>22</th>\n",
       "      <td>GED202402_49</td>\n",
       "      <td>8.70</td>\n",
       "      <td>8.16</td>\n",
       "      <td>-6.206897</td>\n",
       "    </tr>\n",
       "    <tr>\n",
       "      <th>23</th>\n",
       "      <td>GED202402_73</td>\n",
       "      <td>7.30</td>\n",
       "      <td>8.86</td>\n",
       "      <td>21.369863</td>\n",
       "    </tr>\n",
       "    <tr>\n",
       "      <th>24</th>\n",
       "      <td>GED202402_93</td>\n",
       "      <td>6.50</td>\n",
       "      <td>6.33</td>\n",
       "      <td>-2.615385</td>\n",
       "    </tr>\n",
       "    <tr>\n",
       "      <th>25</th>\n",
       "      <td>GED202402_78</td>\n",
       "      <td>5.80</td>\n",
       "      <td>6.81</td>\n",
       "      <td>17.413793</td>\n",
       "    </tr>\n",
       "    <tr>\n",
       "      <th>26</th>\n",
       "      <td>GED202402_102</td>\n",
       "      <td>8.70</td>\n",
       "      <td>7.76</td>\n",
       "      <td>-10.804598</td>\n",
       "    </tr>\n",
       "    <tr>\n",
       "      <th>27</th>\n",
       "      <td>GED202402_36</td>\n",
       "      <td>5.70</td>\n",
       "      <td>6.29</td>\n",
       "      <td>10.350877</td>\n",
       "    </tr>\n",
       "    <tr>\n",
       "      <th>28</th>\n",
       "      <td>GED202402_105</td>\n",
       "      <td>3.20</td>\n",
       "      <td>7.61</td>\n",
       "      <td>137.812500</td>\n",
       "    </tr>\n",
       "  </tbody>\n",
       "</table>\n",
       "</div>"
      ],
      "text/plain": [
       "     Student ID    Pre_avg_score  avg_sci   sci_imp_%\n",
       "0   GED202402_104      7.70         7.67    -0.389610\n",
       "1    GED202402_94      8.30         7.66    -7.710843\n",
       "2    GED202402_67      6.80         8.21    20.735294\n",
       "3    GED202402_09      5.40         8.51    57.592593\n",
       "4    GED202402_92      5.40         8.36    54.814815\n",
       "5    GED202402_25      8.50         8.06    -5.176471\n",
       "6    GED202402_58      7.25         8.57    18.206897\n",
       "7    GED202402_19      6.40         3.00   -53.125000\n",
       "8    GED202402_07      6.50         6.52     0.307692\n",
       "9    GED202402_85      7.95        10.00    25.786164\n",
       "10   GED202402_66      8.65         7.36   -14.913295\n",
       "11   GED202402_61      8.60         7.38   -14.186047\n",
       "12   GED202402_48      7.50         8.79    17.200000\n",
       "13  GED202402_101      6.90         7.64    10.724638\n",
       "14  GED202402_100      8.25         8.72     5.696970\n",
       "15   GED202402_08      6.70         6.24    -6.865672\n",
       "16   GED202402_81      6.50         9.10    40.000000\n",
       "17   GED202402_59      6.40         8.42    31.562500\n",
       "18   GED202402_90      7.30         6.84    -6.301370\n",
       "19   GED202402_38      7.05         6.86    -2.695035\n",
       "20   GED202402_91      7.50         7.07    -5.733333\n",
       "21   GED202402_15      8.50         8.02    -5.647059\n",
       "22   GED202402_49      8.70         8.16    -6.206897\n",
       "23   GED202402_73      7.30         8.86    21.369863\n",
       "24   GED202402_93      6.50         6.33    -2.615385\n",
       "25   GED202402_78      5.80         6.81    17.413793\n",
       "26  GED202402_102      8.70         7.76   -10.804598\n",
       "27   GED202402_36      5.70         6.29    10.350877\n",
       "28  GED202402_105      3.20         7.61   137.812500"
      ]
     },
     "execution_count": 55,
     "metadata": {},
     "output_type": "execute_result"
    }
   ],
   "source": [
    "pre_post_df['sci_imp_%'] = ((pre_post_df['avg_sci'] -pre_post_df['Pre_avg_score'])/pre_post_df['Pre_avg_score'])*100\n",
    "pre_post_df[['Student ID','Pre_avg_score','avg_sci','sci_imp_%']]"
   ]
  },
  {
   "cell_type": "code",
   "execution_count": 56,
   "metadata": {},
   "outputs": [
    {
     "data": {
      "text/html": [
       "<div>\n",
       "<style scoped>\n",
       "    .dataframe tbody tr th:only-of-type {\n",
       "        vertical-align: middle;\n",
       "    }\n",
       "\n",
       "    .dataframe tbody tr th {\n",
       "        vertical-align: top;\n",
       "    }\n",
       "\n",
       "    .dataframe thead th {\n",
       "        text-align: right;\n",
       "    }\n",
       "</style>\n",
       "<table border=\"1\" class=\"dataframe\">\n",
       "  <thead>\n",
       "    <tr style=\"text-align: center;\">\n",
       "      <th></th>\n",
       "      <th>Student ID</th>\n",
       "      <th>Pre_avg_score</th>\n",
       "      <th>ss_imp_%</th>\n",
       "    </tr>\n",
       "  </thead>\n",
       "  <tbody>\n",
       "    <tr>\n",
       "      <th>0</th>\n",
       "      <td>GED202402_104</td>\n",
       "      <td>7.70</td>\n",
       "      <td>-12.337662</td>\n",
       "    </tr>\n",
       "    <tr>\n",
       "      <th>1</th>\n",
       "      <td>GED202402_94</td>\n",
       "      <td>8.30</td>\n",
       "      <td>-3.855422</td>\n",
       "    </tr>\n",
       "    <tr>\n",
       "      <th>2</th>\n",
       "      <td>GED202402_67</td>\n",
       "      <td>6.80</td>\n",
       "      <td>9.117647</td>\n",
       "    </tr>\n",
       "    <tr>\n",
       "      <th>3</th>\n",
       "      <td>GED202402_09</td>\n",
       "      <td>5.40</td>\n",
       "      <td>58.703704</td>\n",
       "    </tr>\n",
       "    <tr>\n",
       "      <th>4</th>\n",
       "      <td>GED202402_92</td>\n",
       "      <td>5.40</td>\n",
       "      <td>32.592593</td>\n",
       "    </tr>\n",
       "    <tr>\n",
       "      <th>5</th>\n",
       "      <td>GED202402_25</td>\n",
       "      <td>8.50</td>\n",
       "      <td>7.058824</td>\n",
       "    </tr>\n",
       "    <tr>\n",
       "      <th>6</th>\n",
       "      <td>GED202402_58</td>\n",
       "      <td>7.25</td>\n",
       "      <td>-1.517241</td>\n",
       "    </tr>\n",
       "    <tr>\n",
       "      <th>7</th>\n",
       "      <td>GED202402_19</td>\n",
       "      <td>6.40</td>\n",
       "      <td>-23.125000</td>\n",
       "    </tr>\n",
       "    <tr>\n",
       "      <th>8</th>\n",
       "      <td>GED202402_07</td>\n",
       "      <td>6.50</td>\n",
       "      <td>24.461538</td>\n",
       "    </tr>\n",
       "    <tr>\n",
       "      <th>9</th>\n",
       "      <td>GED202402_85</td>\n",
       "      <td>7.95</td>\n",
       "      <td>-4.654088</td>\n",
       "    </tr>\n",
       "    <tr>\n",
       "      <th>10</th>\n",
       "      <td>GED202402_66</td>\n",
       "      <td>8.65</td>\n",
       "      <td>-3.930636</td>\n",
       "    </tr>\n",
       "    <tr>\n",
       "      <th>11</th>\n",
       "      <td>GED202402_61</td>\n",
       "      <td>8.60</td>\n",
       "      <td>-5.930233</td>\n",
       "    </tr>\n",
       "    <tr>\n",
       "      <th>12</th>\n",
       "      <td>GED202402_48</td>\n",
       "      <td>7.50</td>\n",
       "      <td>-24.800000</td>\n",
       "    </tr>\n",
       "    <tr>\n",
       "      <th>13</th>\n",
       "      <td>GED202402_101</td>\n",
       "      <td>6.90</td>\n",
       "      <td>22.318841</td>\n",
       "    </tr>\n",
       "    <tr>\n",
       "      <th>14</th>\n",
       "      <td>GED202402_100</td>\n",
       "      <td>8.25</td>\n",
       "      <td>0.606061</td>\n",
       "    </tr>\n",
       "    <tr>\n",
       "      <th>15</th>\n",
       "      <td>GED202402_08</td>\n",
       "      <td>6.70</td>\n",
       "      <td>-32.238806</td>\n",
       "    </tr>\n",
       "    <tr>\n",
       "      <th>16</th>\n",
       "      <td>GED202402_81</td>\n",
       "      <td>6.50</td>\n",
       "      <td>15.384615</td>\n",
       "    </tr>\n",
       "    <tr>\n",
       "      <th>17</th>\n",
       "      <td>GED202402_59</td>\n",
       "      <td>6.40</td>\n",
       "      <td>16.406250</td>\n",
       "    </tr>\n",
       "    <tr>\n",
       "      <th>18</th>\n",
       "      <td>GED202402_90</td>\n",
       "      <td>7.30</td>\n",
       "      <td>18.767123</td>\n",
       "    </tr>\n",
       "    <tr>\n",
       "      <th>19</th>\n",
       "      <td>GED202402_38</td>\n",
       "      <td>7.05</td>\n",
       "      <td>-38.581560</td>\n",
       "    </tr>\n",
       "    <tr>\n",
       "      <th>20</th>\n",
       "      <td>GED202402_91</td>\n",
       "      <td>7.50</td>\n",
       "      <td>-0.800000</td>\n",
       "    </tr>\n",
       "    <tr>\n",
       "      <th>21</th>\n",
       "      <td>GED202402_15</td>\n",
       "      <td>8.50</td>\n",
       "      <td>-0.235294</td>\n",
       "    </tr>\n",
       "    <tr>\n",
       "      <th>22</th>\n",
       "      <td>GED202402_49</td>\n",
       "      <td>8.70</td>\n",
       "      <td>-8.390805</td>\n",
       "    </tr>\n",
       "    <tr>\n",
       "      <th>23</th>\n",
       "      <td>GED202402_73</td>\n",
       "      <td>7.30</td>\n",
       "      <td>15.479452</td>\n",
       "    </tr>\n",
       "    <tr>\n",
       "      <th>24</th>\n",
       "      <td>GED202402_93</td>\n",
       "      <td>6.50</td>\n",
       "      <td>-6.000000</td>\n",
       "    </tr>\n",
       "    <tr>\n",
       "      <th>25</th>\n",
       "      <td>GED202402_78</td>\n",
       "      <td>5.80</td>\n",
       "      <td>37.931034</td>\n",
       "    </tr>\n",
       "    <tr>\n",
       "      <th>26</th>\n",
       "      <td>GED202402_102</td>\n",
       "      <td>8.70</td>\n",
       "      <td>-10.344828</td>\n",
       "    </tr>\n",
       "    <tr>\n",
       "      <th>27</th>\n",
       "      <td>GED202402_36</td>\n",
       "      <td>5.70</td>\n",
       "      <td>14.736842</td>\n",
       "    </tr>\n",
       "    <tr>\n",
       "      <th>28</th>\n",
       "      <td>GED202402_105</td>\n",
       "      <td>3.20</td>\n",
       "      <td>91.875000</td>\n",
       "    </tr>\n",
       "  </tbody>\n",
       "</table>\n",
       "</div>"
      ],
      "text/plain": [
       "     Student ID    Pre_avg_score  ss_imp_% \n",
       "0   GED202402_104      7.70      -12.337662\n",
       "1    GED202402_94      8.30       -3.855422\n",
       "2    GED202402_67      6.80        9.117647\n",
       "3    GED202402_09      5.40       58.703704\n",
       "4    GED202402_92      5.40       32.592593\n",
       "5    GED202402_25      8.50        7.058824\n",
       "6    GED202402_58      7.25       -1.517241\n",
       "7    GED202402_19      6.40      -23.125000\n",
       "8    GED202402_07      6.50       24.461538\n",
       "9    GED202402_85      7.95       -4.654088\n",
       "10   GED202402_66      8.65       -3.930636\n",
       "11   GED202402_61      8.60       -5.930233\n",
       "12   GED202402_48      7.50      -24.800000\n",
       "13  GED202402_101      6.90       22.318841\n",
       "14  GED202402_100      8.25        0.606061\n",
       "15   GED202402_08      6.70      -32.238806\n",
       "16   GED202402_81      6.50       15.384615\n",
       "17   GED202402_59      6.40       16.406250\n",
       "18   GED202402_90      7.30       18.767123\n",
       "19   GED202402_38      7.05      -38.581560\n",
       "20   GED202402_91      7.50       -0.800000\n",
       "21   GED202402_15      8.50       -0.235294\n",
       "22   GED202402_49      8.70       -8.390805\n",
       "23   GED202402_73      7.30       15.479452\n",
       "24   GED202402_93      6.50       -6.000000\n",
       "25   GED202402_78      5.80       37.931034\n",
       "26  GED202402_102      8.70      -10.344828\n",
       "27   GED202402_36      5.70       14.736842\n",
       "28  GED202402_105      3.20       91.875000"
      ]
     },
     "execution_count": 56,
     "metadata": {},
     "output_type": "execute_result"
    }
   ],
   "source": [
    "pre_post_df['ss_imp_%'] = ((pre_post_df['avg_ss'] -pre_post_df['Pre_avg_score'])/pre_post_df['Pre_avg_score'])*100\n",
    "pre_post_df[['Student ID','Pre_avg_score','ss_imp_%']]"
   ]
  },
  {
   "cell_type": "code",
   "execution_count": 57,
   "metadata": {},
   "outputs": [],
   "source": [
    "# Function to categorize scores for each subject\n",
    "def categorize_score(score, subject):\n",
    "    if score < 7:\n",
    "        return \"Needs Preparation\"\n",
    "    elif score >= 8.7:\n",
    "        return \"Credit\"\n",
    "    else:\n",
    "        return \"Pass\"\n",
    "\n",
    "# Categorize each subject\n",
    "for subject in ['avg_math', 'avg_rla', 'avg_sci', 'avg_ss']:\n",
    "    pre_post_df[f'{subject}_category'] = pre_post_df[subject].apply(lambda x: categorize_score(x, subject))\n",
    "\n",
    "# Count students in each category for each subject\n",
    "category_counts = (\n",
    "    pre_post_df.melt(id_vars='Student ID', \n",
    "                     value_vars=['avg_math_category', 'avg_rla_category', 'avg_sci_category', 'avg_ss_category'], \n",
    "                     var_name='Subject', \n",
    "                     value_name='Category')\n",
    "    .groupby(['Subject', 'Category'])\n",
    "    .size()\n",
    "    .reset_index(name='Number of Students')\n",
    ")"
   ]
  },
  {
   "cell_type": "code",
   "execution_count": 58,
   "metadata": {},
   "outputs": [
    {
     "data": {
      "image/png": "[encoded data removed]",
      "text/plain": [
       "<Figure size 1080x576 with 4 Axes>"
      ]
     },
     "metadata": {},
     "output_type": "display_data"
    }
   ],
   "source": [
    "# Calculate the percentage for each category per subject\n",
    "category_counts['Percentage'] = category_counts.groupby('Subject')['Number of Students'].transform(lambda x: x / x.sum() * 100)\n",
    "\n",
    "# Plotting Pie Charts\n",
    "subjects = category_counts['Subject'].unique()\n",
    "\n",
    "# Create a pie chart for each subject\n",
    "plt.figure(figsize=(15, 8))\n",
    "for i, subject in enumerate(subjects, start=1):\n",
    "    plt.subplot(2, 2, i)\n",
    "    subject_data = category_counts[category_counts['Subject'] == subject]\n",
    "    plt.pie(subject_data['Percentage'], labels=subject_data['Category'], autopct='%1.1f%%', startangle=90, colors=['#99FF99','#FF9999', '#66B3FF'])\n",
    "    plt.title(f'Percentage of Students by Category for {subject.upper()}')\n",
    "\n",
    "plt.tight_layout()\n",
    "plt.show()"
   ]
  },
  {
   "cell_type": "code",
   "execution_count": 60,
   "metadata": {},
   "outputs": [],
   "source": [
    "# pre_post_df['Pre_Score_Band'] = pd.cut(pre_post_df['Pre_Eng'], bins=[0, 4, 6, 8, 10], labels=['0-4', '4-6', '6-8', '8-10'])\n",
    "# pre_post_df[['Pre_Eng','Pre_Score_Band','rla_imp_%']]\n",
    "# # score_band_means = pre_post_df.groupby('Pre_Score_Band')['rla_imp_%'].mean().reset_index()\n",
    "# sns.barplot(x='Pre_Score_Band', y='rla_imp_%', data=score_band_means)\n",
    "# plt.xlabel(\"Pre-Test Score Band\")\n",
    "# plt.ylabel(\"Average Improvement (%)\")\n",
    "# plt.title(\"Average Improvement Percentage by Pre-Test Score Band\")\n",
    "# plt.show()"
   ]
  },
  {
   "cell_type": "code",
   "execution_count": 61,
   "metadata": {},
   "outputs": [],
   "source": [
    "# sns.lmplot(x='Pre_Eng', y='avg_rla', data=pre_post_df, aspect=1.5, scatter_kws={\"s\": 50, \"alpha\": 0.5})\n",
    "# plt.title(\"Correlation Between Pre-Test and Post-Test RLA Scores\")\n",
    "# plt.xlabel(\"Pre-Test Score\")\n",
    "# plt.ylabel(\"Post-Test Score\")\n",
    "# plt.show()\n",
    "# Compare average improvement percentages across subjects to see where students have progressed the most.\n",
    "# This gives a quick view of which subjects have the highest average improvement, indicating which subjects students improved in most significantly."
   ]
  },
  {
   "cell_type": "code",
   "execution_count": 62,
   "metadata": {},
   "outputs": [
    {
     "data": {
      "image/png": "[encoded data removed]",
      "text/plain": [
       "<Figure size 576x360 with 1 Axes>"
      ]
     },
     "metadata": {
      "needs_background": "light"
     },
     "output_type": "display_data"
    }
   ],
   "source": [
    "subs_imp = ['math_imp_%', 'rla_imp_%', 'sci_imp_%', 'ss_imp_%']\n",
    "avg_improvements = pre_post_df[subs_imp].mean()\n",
    "plt.figure(figsize=(8, 5))\n",
    "sns.barplot(x=avg_improvements.index, y=avg_improvements.values)\n",
    "plt.title(\"Average Improvement Percentage by Subject\")\n",
    "plt.xlabel(\"Subject\")\n",
    "plt.ylabel(\"Average Improvement (%)\")\n",
    "plt.show()"
   ]
  },
  {
   "cell_type": "code",
   "execution_count": 63,
   "metadata": {},
   "outputs": [],
   "source": [
    "# top_students = pre_post_df.nlargest(5, 'math_imp_%')[['Student ID', 'math_imp_%']]\n",
    "# bottom_students = pre_post_df.nsmallest(5, 'math_imp_%')[['Student ID', 'math_imp_%']]\n",
    "\n",
    "# plt.figure(figsize=(8, 5))\n",
    "# sns.barplot(data=top_students, x='math_imp_%', y='Student ID', color='green', label='Top 5')\n",
    "# sns.barplot(data=bottom_students, x='math_imp_%', y='Student ID', color='red', label='Bottom 5')\n",
    "# plt.title(\"Top and Bottom Performers in Math Improvement\")\n",
    "# plt.xlabel(\"Improvement Percentage\")\n",
    "# plt.ylabel(\"Student ID\")\n",
    "# plt.legend()\n",
    "# plt.show()"
   ]
  },
  {
   "cell_type": "code",
   "execution_count": 64,
   "metadata": {},
   "outputs": [],
   "source": [
    "# plt.figure(figsize=(12, 6))\n",
    "# sns.lineplot(data=pre_post_df[['Student ID', 'math_imp_%', 'rla_imp_%', 'sci_imp_%', 'ss_imp_%']].melt(id_vars='Student ID'), x='Student ID', y='value', hue='variable')\n",
    "# plt.xticks(rotation=90)\n",
    "# plt.title(\"Student-wise Improvement Percentage by Subject\")\n",
    "# plt.xlabel(\"Student ID\")\n",
    "# plt.ylabel(\"Improvement (%)\")\n",
    "# plt.legend(title=\"Subject\")\n",
    "# plt.show()"
   ]
  },
  {
   "cell_type": "code",
   "execution_count": 65,
   "metadata": {},
   "outputs": [
    {
     "data": {
      "image/png": "[encoded data removed]",
      "text/plain": [
       "<Figure size 720x432 with 1 Axes>"
      ]
     },
     "metadata": {
      "needs_background": "light"
     },
     "output_type": "display_data"
    }
   ],
   "source": [
    "# pre_post_df[['avg_math', 'avg_sci', 'avg_ss', 'avg_rla']].plot(kind='bar')\n",
    "# plt.show()\n",
    "#location_avg_scores = pre_post_df.groupby('Highest Education')[['avg_math', 'avg_sci', 'avg_ss', 'avg_rla']].mean()\n",
    "#location_avg_scores = pre_post_df.groupby('Age')[['avg_math', 'avg_sci', 'avg_ss', 'avg_rla']].mean()\n",
    "#location_avg_scores = pre_post_df.groupby('Location')[['avg_math', 'avg_sci', 'avg_ss', 'avg_rla']].mean()\n",
    "location_avg_scores = pre_post_df.groupby('Location')[['avg_post_all_sub']].mean()\n",
    "# Plot the average scores by Location\n",
    "location_avg_scores.plot(kind='bar', figsize=(10, 6))\n",
    "plt.title('Average Scores By Location')\n",
    "plt.ylabel('Average Score')\n",
    "#plt.legend(title='Avg Subjects')\n",
    "plt.tight_layout()  # Adjust layout to make room for labels\n",
    "plt.show()"
   ]
  },
  {
   "cell_type": "code",
   "execution_count": 66,
   "metadata": {},
   "outputs": [
    {
     "data": {
      "image/png": "[encoded data removed]",
      "text/plain": [
       "<Figure size 432x288 with 1 Axes>"
      ]
     },
     "metadata": {
      "needs_background": "light"
     },
     "output_type": "display_data"
    }
   ],
   "source": [
    "pre_post_df[['Pre_avg_score', 'avg_post_all_sub']].plot(kind='box')\n",
    "# Add labels and title\n",
    "plt.title('Comparison of Pre-Average Scores and Average Post Scores for All Subjects')\n",
    "plt.ylabel('Scores')\n",
    "plt.xticks([1, 2], ['Pre Average Score', 'Post Average Score'])\n",
    "\n",
    "# Optionally add gridlines\n",
    "plt.grid(axis='y', linestyle='--', alpha=0.7)\n",
    "\n",
    "# Optionally show mean\n",
    "plt.axhline(y=pre_post_df['Pre_avg_score'].mean(), color='r', linestyle='--', label='Mean Pre Score')\n",
    "plt.axhline(y=pre_post_df['avg_post_all_sub'].mean(), color='g', linestyle='--', label='Mean Post Score')\n",
    "plt.legend()\n",
    "plt.show()"
   ]
  },
  {
   "cell_type": "code",
   "execution_count": 67,
   "metadata": {},
   "outputs": [
    {
     "data": {
      "image/png": "[encoded data removed]",
      "text/plain": [
       "<Figure size 576x360 with 1 Axes>"
      ]
     },
     "metadata": {
      "needs_background": "light"
     },
     "output_type": "display_data"
    }
   ],
   "source": [
    "# Count occurrences of each subject\n",
    "most_improved_counts = pj2_survey_df['most_improved_sub'].value_counts()\n",
    "most_improved_counts.plot(kind='bar', color='skyblue', figsize=(8, 5))\n",
    "plt.title('Most Improved Subjects')\n",
    "plt.xlabel('Subjects')\n",
    "plt.ylabel('Number of Students')\n",
    "plt.xticks(rotation=45)\n",
    "plt.tight_layout()  # Adjust layout to make room for labels\n",
    "plt.show()"
   ]
  },
  {
   "cell_type": "code",
   "execution_count": 68,
   "metadata": {},
   "outputs": [
    {
     "data": {
      "image/png": "[encoded data removed]",
      "text/plain": [
       "<Figure size 576x360 with 1 Axes>"
      ]
     },
     "metadata": {},
     "output_type": "display_data"
    }
   ],
   "source": [
    "most_improved_counts.plot(kind='pie', autopct='%1.1f%%', figsize=(8, 5))\n",
    "plt.title('Most Improved Subjects')\n",
    "plt.ylabel('')  # Hide the y-label\n",
    "plt.show()"
   ]
  },
  {
   "cell_type": "code",
   "execution_count": 69,
   "metadata": {},
   "outputs": [
    {
     "data": {
      "image/png": "[encoded data removed]",
      "text/plain": [
       "<Figure size 720x360 with 1 Axes>"
      ]
     },
     "metadata": {
      "needs_background": "light"
     },
     "output_type": "display_data"
    },
    {
     "data": {
      "image/png": "[encoded data removed]",
      "text/plain": [
       "<Figure size 720x360 with 1 Axes>"
      ]
     },
     "metadata": {
      "needs_background": "light"
     },
     "output_type": "display_data"
    }
   ],
   "source": [
    "# Preprocess and explode the improvement recommendations\n",
    "improvement_recommendations_exploded = pj2_survey_df['improvement_recommendations'].str.split(', ').explode()\n",
    "key_improvement_factors_exploded = pj2_survey_df['key_improvement_factors'].str.split(', ').explode()\n",
    "\n",
    "# Count occurrences\n",
    "recommendation_counts = improvement_recommendations_exploded.value_counts()\n",
    "factor_counts = key_improvement_factors_exploded.value_counts()\n",
    "\n",
    "# Get top 5 recommendations and factors\n",
    "top_recommendations = recommendation_counts.head(5)\n",
    "top_factors = factor_counts.head(5)\n",
    "\n",
    "# Plotting Top 5 Improvement Recommendations\n",
    "plt.figure(figsize=(10, 5))\n",
    "top_recommendations.plot(kind='bar', color='skyblue')\n",
    "plt.title('Top 5 Improvement Recommendations')\n",
    "plt.xlabel('Recommendations')\n",
    "plt.ylabel('Number of Responses')\n",
    "plt.xticks(rotation=45, ha='right')  # Set rotation to 45 degrees and align labels to the right\n",
    "plt.tight_layout()\n",
    "plt.show()\n",
    "\n",
    "# Plotting Top 5 Key Improvement Factors\n",
    "plt.figure(figsize=(10, 5))\n",
    "top_factors.plot(kind='bar', color='lightgreen')\n",
    "plt.title('Top 5 Key Improvement Factors')\n",
    "plt.xlabel('Factors')\n",
    "plt.ylabel('Number of Responses')\n",
    "plt.xticks(rotation=45, ha='right')  # Set rotation to 45 degrees and align labels to the right\n",
    "plt.tight_layout()\n",
    "plt.show()"
   ]
  },
  {
   "cell_type": "code",
   "execution_count": 74,
   "metadata": {},
   "outputs": [
    {
     "ename": "NameError",
     "evalue": "name 'avg_ratings_bef' is not defined",
     "output_type": "error",
     "traceback": [
      "\u001b[1;31m---------------------------------------------------------------------------\u001b[0m",
      "\u001b[1;31mNameError\u001b[0m                                 Traceback (most recent call last)",
      "\u001b[1;32m<ipython-input-74-f9aadba0b62a>\u001b[0m in \u001b[0;36m<module>\u001b[1;34m\u001b[0m\n\u001b[0;32m      1\u001b[0m \u001b[1;31m# Combine the before and after averages into a DataFrame\u001b[0m\u001b[1;33m\u001b[0m\u001b[1;33m\u001b[0m\u001b[1;33m\u001b[0m\u001b[0m\n\u001b[0;32m      2\u001b[0m avg_ratings_df = pd.DataFrame({\n\u001b[1;32m----> 3\u001b[1;33m     \u001b[1;34m'Before'\u001b[0m\u001b[1;33m:\u001b[0m \u001b[0mavg_ratings_bef\u001b[0m\u001b[1;33m,\u001b[0m\u001b[1;33m\u001b[0m\u001b[1;33m\u001b[0m\u001b[0m\n\u001b[0m\u001b[0;32m      4\u001b[0m     \u001b[1;34m'After'\u001b[0m\u001b[1;33m:\u001b[0m \u001b[0mavg_ratings_aft\u001b[0m\u001b[1;33m\u001b[0m\u001b[1;33m\u001b[0m\u001b[0m\n\u001b[0;32m      5\u001b[0m })\n",
      "\u001b[1;31mNameError\u001b[0m: name 'avg_ratings_bef' is not defined"
     ]
    }
   ],
   "source": [
    "# Combine the before and after averages into a DataFrame\n",
    "avg_ratings_df = pd.DataFrame({\n",
    "    'Before': avg_ratings_bef,\n",
    "    'After': avg_ratings_aft\n",
    "})\n",
    "\n",
    "# Plot grouped bar chart\n",
    "avg_ratings_df.plot(kind='bar', figsize=(10, 6))\n",
    "plt.title('Average Ratings by Question Before and After')\n",
    "plt.xlabel('Survey Questions')\n",
    "plt.ylabel('Average Rating (1-5)')\n",
    "plt.xticks(rotation=45)\n",
    "plt.legend(title='Survey Timing')\n",
    "plt.show()\n"
   ]
  },
  {
   "cell_type": "code",
   "execution_count": 75,
   "metadata": {},
   "outputs": [
    {
     "data": {
      "text/plain": [
       "Index(['Student ID', 'Attention_In_Class_math', 'Active_Engagement_math',\n",
       "       'Group_Participation_math', 'Clear_Answers_math',\n",
       "       'Attention_In_Class_sci', 'Active_Engagement_sci',\n",
       "       'Group_Participation_sci', 'Clear_Answers_sci', 'Attention_In_Class_ss',\n",
       "       'Active_Engagement_ss', 'Group_Participation_ss', 'Clear_Answers_ss',\n",
       "       'Attention_In_Class_rla', 'Active_Engagement_rla',\n",
       "       'Group_Participation_rla', 'Clear_Answers_rla'],\n",
       "      dtype='object')"
      ]
     },
     "execution_count": 75,
     "metadata": {},
     "output_type": "execute_result"
    }
   ],
   "source": [
    "student_ptc_info_df.columns"
   ]
  },
  {
   "cell_type": "code",
   "execution_count": 76,
   "metadata": {},
   "outputs": [
    {
     "data": {
      "image/png": "[encoded data removed]",
      "text/plain": [
       "<Figure size 432x288 with 1 Axes>"
      ]
     },
     "metadata": {
      "needs_background": "light"
     },
     "output_type": "display_data"
    },
    {
     "name": "stdout",
     "output_type": "stream",
     "text": [
      "0.06129540689909088\n"
     ]
    }
   ],
   "source": [
    "pre_post_df['class_engage'] =pre_post_df[['Attention_In_Class_rla','Active_Engagement_rla','Group_Participation_rla','Clear_Answers_rla',\n",
    "                                         'Attention_In_Class_math','Active_Engagement_math','Group_Participation_math','Clear_Answers_math',\n",
    "                                         'Attention_In_Class_sci','Active_Engagement_sci','Group_Participation_sci','Clear_Answers_sci',\n",
    "                                         'Attention_In_Class_ss','Active_Engagement_ss','Group_Participation_ss','Clear_Answers_ss']].mean(axis=1)\n",
    "pre_post_df.plot(kind='scatter',x='class_engage',y='avg_post_all_sub') \n",
    "plt.title('Class Engagement vs. Average Post Scores')\n",
    "plt.xlabel('Class Engagement Score')\n",
    "plt.ylabel('Average Post Scores')\n",
    "plt.show()\n",
    "print(pre_post_df['class_engage'].corr(pre_post_df['avg_post_all_sub']))"
   ]
  },
  {
   "cell_type": "code",
   "execution_count": 77,
   "metadata": {},
   "outputs": [
    {
     "data": {
      "image/png": "[encoded data removed]",
      "text/plain": [
       "<Figure size 432x288 with 1 Axes>"
      ]
     },
     "metadata": {
      "needs_background": "light"
     },
     "output_type": "display_data"
    }
   ],
   "source": [
    "pre_post_df['engagement_level'] = pd.cut(pre_post_df['class_engage'], bins=[1, 2, 3, 4], labels=['Low', 'Medium', 'High'])\n",
    "avg_scores_by_engagement = pre_post_df.groupby('engagement_level')['avg_post_all_sub'].mean().reset_index()\n",
    "\n",
    "sns.barplot(x='engagement_level', y='avg_post_all_sub', data=avg_scores_by_engagement)\n",
    "plt.title('Average Post Scores by Engagement Level')\n",
    "plt.xlabel('Engagement Level')\n",
    "plt.ylabel('Average Post Scores')\n",
    "plt.show()"
   ]
  },
  {
   "cell_type": "code",
   "execution_count": 78,
   "metadata": {},
   "outputs": [
    {
     "name": "stderr",
     "output_type": "stream",
     "text": [
      "C:\\Users\\nuwai\\Anaconda3\\lib\\site-packages\\pandas\\core\\frame.py:5047: SettingWithCopyWarning: \n",
      "A value is trying to be set on a copy of a slice from a DataFrame\n",
      "\n",
      "See the caveats in the documentation: https://pandas.pydata.org/pandas-docs/stable/user_guide/indexing.html#returning-a-view-versus-a-copy\n",
      "  errors=errors,\n"
     ]
    }
   ],
   "source": [
    "math_tests = pre_post_df[['n_math_test1', 'Grade/10.00_math_test2', 'Grade/10.00_math_test3', 'Grade/10.00_math_test6']]\n",
    "math_tests.rename(columns={'n_math_test1': 'Test_1', 'Grade/10.00_math_test2': 'Test_2','Grade/10.00_math_test3': 'Test_3','Grade/10.00_math_test6': 'Test_4'}, inplace=True)\n",
    "\n",
    "sci_tests = pre_post_df[['Grade/10.00_sci_test1', 'Grade/10.00_sci_test2', 'Grade/10.00_sci_test3', 'Grade/10.00_sci_test4']]\n",
    "sci_tests.rename(columns={'Grade/10.00_sci_test1': 'Test_1', 'Grade/10.00_sci_test2': 'Test_2','Grade/10.00_sci_test3': 'Test_3','Grade/10.00_sci_test4': 'Test_4'}, inplace=True)\n",
    "\n",
    "ss_tests = pre_post_df[['n_ss_test1', 'n_ss_test2', 'n_ss_test3']]\n",
    "ss_tests.rename(columns={'n_ss_test1': 'Test_1', 'n_ss_test2': 'Test_2','n_ss_test3': 'Test_3'}, inplace=True)\n",
    "\n",
    "rla_tests = pre_post_df[['Grade/10.00_rla_test1', 'Grade/10.00_rla_test2']]\n",
    "rla_tests.rename(columns={'Grade/10.00_rla_test1': 'Test_1', 'Grade/10.00_rla_test2': 'Test_2'}, inplace=True)"
   ]
  },
  {
   "cell_type": "code",
   "execution_count": 79,
   "metadata": {},
   "outputs": [
    {
     "data": {
      "image/png": "[encoded data removed]",
      "text/plain": [
       "<Figure size 576x288 with 1 Axes>"
      ]
     },
     "metadata": {
      "needs_background": "light"
     },
     "output_type": "display_data"
    }
   ],
   "source": [
    "plt.figure(figsize=(8, 4))\n",
    "# Plot each dataframe with appropriate labels\n",
    "plt.plot(math_tests.mean(), label='Math Tests')\n",
    "plt.plot(sci_tests.mean(), label='Science Tests')\n",
    "plt.plot(ss_tests.mean(), label='Social Studies Tests')\n",
    "plt.plot(rla_tests.mean(), label='RLA Tests')\n",
    "\n",
    "plt.xlabel(\"Test Number\")\n",
    "plt.ylabel(\"Average Score\")\n",
    "plt.title(\"Average Test Scores Across Subjects\")\n",
    "plt.legend()\n",
    "plt.show()"
   ]
  },
  {
   "cell_type": "code",
   "execution_count": 80,
   "metadata": {},
   "outputs": [
    {
     "data": {
      "image/png": "[encoded data removed]",
      "text/plain": [
       "<Figure size 432x288 with 1 Axes>"
      ]
     },
     "metadata": {
      "needs_background": "light"
     },
     "output_type": "display_data"
    }
   ],
   "source": [
    "bf_confid_cols = pre_post_df[['confidence_bef_math', 'confidence_bef_rla','confidence_bef_sci', 'confidence_bef_ss']]\n",
    "af_confid_cols = pre_post_df[['confidence_aft_math', 'confidence_aft_rla','confidence_aft_sci', 'confidence_aft_ss']]\n",
    "bf_confid_modes = bf_confid_cols.mode().iloc[0]\n",
    "af_confid_modes = af_confid_cols.mode().iloc[0]\n",
    "\n",
    "subjects = ['Math', 'RLA', 'Science', 'Social Studies']\n",
    "\n",
    "X_axis = np.arange(len(subjects))\n",
    "\n",
    "plt.figure(figsize=(6, 4))\n",
    "plt.bar(X_axis - 0.15, bf_confid_modes, 0.3, label='Before')\n",
    "plt.bar(X_axis + 0.15, af_confid_modes, 0.3, label='After')\n",
    "\n",
    "plt.xticks(X_axis, subjects)\n",
    "plt.xlabel(\"Subjects\")\n",
    "plt.ylabel(\"Confidence Level (Mode)\")\n",
    "plt.title(\"Confidence Levels Before and After Courses\")\n",
    "plt.legend()\n",
    "plt.show()"
   ]
  },
  {
   "cell_type": "code",
   "execution_count": 81,
   "metadata": {},
   "outputs": [
    {
     "data": {
      "image/png": "[encoded data removed]",
      "text/plain": [
       "<Figure size 432x288 with 1 Axes>"
      ]
     },
     "metadata": {
      "needs_background": "light"
     },
     "output_type": "display_data"
    }
   ],
   "source": [
    "plt.figure(figsize=(6, 4))\n",
    "sns.countplot(x='Expectations_Met', data=pre_post_df)\n",
    "plt.title('Distribution of Expectations Met')\n",
    "plt.xlabel('Expectations Met')\n",
    "plt.ylabel('Count')\n",
    "plt.show()"
   ]
  },
  {
   "cell_type": "code",
   "execution_count": 82,
   "metadata": {},
   "outputs": [
    {
     "data": {
      "image/png": "[encoded data removed]",
      "text/plain": [
       "<Figure size 576x288 with 1 Axes>"
      ]
     },
     "metadata": {
      "needs_background": "light"
     },
     "output_type": "display_data"
    }
   ],
   "source": [
    "pre_post_df[['overall_improvement_aft']].value_counts().sort_values().plot(kind='barh', figsize=(8, 4))\n",
    "plt.title('Overall Improvement After Courses')\n",
    "plt.show()"
   ]
  },
  {
   "cell_type": "code",
   "execution_count": null,
   "metadata": {},
   "outputs": [],
   "source": []
  }
 ],
 "metadata": {
  "colab": {
   "authorship_tag": "ABX9TyOhn5uvXKtH1VDJS5VHEoZQ",
   "provenance": []
  },
  "kernelspec": {
   "display_name": "Python 3",
   "language": "python",
   "name": "python3"
  },
  "language_info": {
   "codemirror_mode": {
    "name": "ipython",
    "version": 3
   },
   "file_extension": ".py",
   "mimetype": "text/x-python",
   "name": "python",
   "nbconvert_exporter": "python",
   "pygments_lexer": "ipython3",
   "version": "3.7.3"
  }
 },
 "nbformat": 4,
 "nbformat_minor": 1
}
